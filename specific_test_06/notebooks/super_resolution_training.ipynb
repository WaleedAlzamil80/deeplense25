{
 "cells": [
  {
   "cell_type": "markdown",
   "id": "286c97b6",
   "metadata": {
    "papermill": {
     "duration": 0.003899,
     "end_time": "2025-03-16T13:33:27.881276",
     "exception": false,
     "start_time": "2025-03-16T13:33:27.877377",
     "status": "completed"
    },
    "tags": []
   },
   "source": [
    "# Imports"
   ]
  },
  {
   "cell_type": "code",
   "execution_count": 1,
   "id": "99a835e9",
   "metadata": {
    "execution": {
     "iopub.execute_input": "2025-03-16T13:33:27.888958Z",
     "iopub.status.busy": "2025-03-16T13:33:27.888644Z",
     "iopub.status.idle": "2025-03-16T13:33:32.425215Z",
     "shell.execute_reply": "2025-03-16T13:33:32.424359Z"
    },
    "papermill": {
     "duration": 4.541956,
     "end_time": "2025-03-16T13:33:32.426754",
     "exception": false,
     "start_time": "2025-03-16T13:33:27.884798",
     "status": "completed"
    },
    "tags": []
   },
   "outputs": [
    {
     "name": "stdout",
     "output_type": "stream",
     "text": [
      "Collecting pytorch_msssim\r\n",
      "  Downloading pytorch_msssim-1.0.0-py3-none-any.whl.metadata (8.0 kB)\r\n",
      "Requirement already satisfied: torch in /usr/local/lib/python3.10/dist-packages (from pytorch_msssim) (2.5.1+cu121)\r\n",
      "Requirement already satisfied: filelock in /usr/local/lib/python3.10/dist-packages (from torch->pytorch_msssim) (3.17.0)\r\n",
      "Requirement already satisfied: typing-extensions>=4.8.0 in /usr/local/lib/python3.10/dist-packages (from torch->pytorch_msssim) (4.12.2)\r\n",
      "Requirement already satisfied: networkx in /usr/local/lib/python3.10/dist-packages (from torch->pytorch_msssim) (3.4.2)\r\n",
      "Requirement already satisfied: jinja2 in /usr/local/lib/python3.10/dist-packages (from torch->pytorch_msssim) (3.1.4)\r\n",
      "Requirement already satisfied: fsspec in /usr/local/lib/python3.10/dist-packages (from torch->pytorch_msssim) (2024.12.0)\r\n",
      "Requirement already satisfied: sympy==1.13.1 in /usr/local/lib/python3.10/dist-packages (from torch->pytorch_msssim) (1.13.1)\r\n",
      "Requirement already satisfied: mpmath<1.4,>=1.1.0 in /usr/local/lib/python3.10/dist-packages (from sympy==1.13.1->torch->pytorch_msssim) (1.3.0)\r\n",
      "Requirement already satisfied: MarkupSafe>=2.0 in /usr/local/lib/python3.10/dist-packages (from jinja2->torch->pytorch_msssim) (3.0.2)\r\n",
      "Downloading pytorch_msssim-1.0.0-py3-none-any.whl (7.7 kB)\r\n",
      "Installing collected packages: pytorch_msssim\r\n",
      "Successfully installed pytorch_msssim-1.0.0\r\n"
     ]
    }
   ],
   "source": [
    "!pip install pytorch_msssim"
   ]
  },
  {
   "cell_type": "code",
   "execution_count": 2,
   "id": "63021602",
   "metadata": {
    "_cell_guid": "b1076dfc-b9ad-4769-8c92-a6c4dae69d19",
    "_uuid": "8f2839f25d086af736a60e9eeb907d3b93b6e0e5",
    "execution": {
     "iopub.execute_input": "2025-03-16T13:33:32.435428Z",
     "iopub.status.busy": "2025-03-16T13:33:32.435193Z",
     "iopub.status.idle": "2025-03-16T13:33:44.661792Z",
     "shell.execute_reply": "2025-03-16T13:33:44.661132Z"
    },
    "papermill": {
     "duration": 12.232564,
     "end_time": "2025-03-16T13:33:44.663357",
     "exception": false,
     "start_time": "2025-03-16T13:33:32.430793",
     "status": "completed"
    },
    "tags": []
   },
   "outputs": [],
   "source": [
    "import sys\n",
    "import os\n",
    "from PIL import Image\n",
    "from glob import glob\n",
    "import math\n",
    "import numpy as np\n",
    "from sklearn.model_selection import train_test_split\n",
    "import torch\n",
    "import torch.nn.functional as F\n",
    "import torch.nn as nn\n",
    "import torch.optim as optim\n",
    "from torch.utils.data import Dataset, DataLoader\n",
    "import torchvision.transforms as transforms\n",
    "from tqdm import tqdm\n",
    "from timm import create_model\n",
    "import matplotlib.pyplot as plt\n",
    "from sklearn.metrics import roc_curve, auc, roc_auc_score\n",
    "from sklearn.preprocessing import label_binarize\n",
    "from itertools import cycle\n",
    "import seaborn as sns\n",
    "from pytorch_msssim import ssim as ssim_torch  # Fast SSIM on GPU"
   ]
  },
  {
   "cell_type": "markdown",
   "id": "34c4cb6c",
   "metadata": {
    "papermill": {
     "duration": 0.003517,
     "end_time": "2025-03-16T13:33:44.671070",
     "exception": false,
     "start_time": "2025-03-16T13:33:44.667553",
     "status": "completed"
    },
    "tags": []
   },
   "source": [
    "# DataLoader"
   ]
  },
  {
   "cell_type": "code",
   "execution_count": 3,
   "id": "8ff6f4e4",
   "metadata": {
    "execution": {
     "iopub.execute_input": "2025-03-16T13:33:44.678982Z",
     "iopub.status.busy": "2025-03-16T13:33:44.678621Z",
     "iopub.status.idle": "2025-03-16T13:33:44.685659Z",
     "shell.execute_reply": "2025-03-16T13:33:44.685059Z"
    },
    "papermill": {
     "duration": 0.012311,
     "end_time": "2025-03-16T13:33:44.686864",
     "exception": false,
     "start_time": "2025-03-16T13:33:44.674553",
     "status": "completed"
    },
    "tags": []
   },
   "outputs": [],
   "source": [
    "class NPYSuperResolutionDataset(Dataset):\n",
    "    def __init__(self, samples_list, base_dir, transform):\n",
    "        self.base_dir = base_dir\n",
    "        self.file_names = samples_list\n",
    "        self.transform = transform\n",
    " \n",
    "    def __len__(self):\n",
    "        return len(self.file_names)\n",
    "\n",
    "    def __getitem__(self, idx):\n",
    "        file_name = self.file_names[idx]\n",
    "\n",
    "        # Load HR and LR images\n",
    "        hr_img = np.load(os.path.join(self.base_dir, \"HR\", file_name))\n",
    "        lr_img = np.load(os.path.join(self.base_dir, \"LR\", file_name))\n",
    "\n",
    "        # Convert to PIL Image\n",
    "        hr_img = Image.fromarray(np.uint8(hr_img.squeeze() * 255))\n",
    "        lr_img = Image.fromarray(np.uint8(lr_img.squeeze() * 255))\n",
    "\n",
    "        # Apply transformations\n",
    "        if self.transform:\n",
    "            lr_img, hr_img = self.transform(lr_img, hr_img)\n",
    "\n",
    "        return lr_img, hr_img\n",
    "\n",
    "class PairedTransform:\n",
    "    def __init__(self, transform, save_dir=\"debug_images\", debug=False):\n",
    "        self.transform = transform\n",
    "        self.save_dir = save_dir\n",
    "        self.debug = debug\n",
    "        os.makedirs(save_dir, exist_ok=True)  # Create the directory if it doesn't exist\n",
    "\n",
    "    def __call__(self, img1, img2):\n",
    "        seed = torch.randint(0, 10000, (1,)).item()  # Generate a random seed\n",
    "\n",
    "        torch.manual_seed(seed)  # Set seed before applying to first image\n",
    "        img1 = self.transform(img1)\n",
    "\n",
    "        torch.manual_seed(seed)  # Reset seed before applying to second image\n",
    "        img2 = self.transform(img2)\n",
    "\n",
    "        if self.debug:\n",
    "            # Save the transformed images for debugging\n",
    "            img1_save_path = os.path.join(self.save_dir, f\"{seed}_img1_debug.png\")\n",
    "            img2_save_path = os.path.join(self.save_dir, f\"{seed}_img2_debug.png\")\n",
    "\n",
    "            img1_pil = transforms.ToPILImage()(img1)  # Convert tensor back to PIL\n",
    "            img2_pil = transforms.ToPILImage()(img2)\n",
    "\n",
    "            img1_pil.save(img1_save_path)\n",
    "            img2_pil.save(img2_save_path)\n",
    "\n",
    "\n",
    "        return img1, img2"
   ]
  },
  {
   "cell_type": "code",
   "execution_count": 4,
   "id": "fb0cb447",
   "metadata": {
    "execution": {
     "iopub.execute_input": "2025-03-16T13:33:44.694741Z",
     "iopub.status.busy": "2025-03-16T13:33:44.694537Z",
     "iopub.status.idle": "2025-03-16T13:33:44.698697Z",
     "shell.execute_reply": "2025-03-16T13:33:44.698109Z"
    },
    "papermill": {
     "duration": 0.009379,
     "end_time": "2025-03-16T13:33:44.699770",
     "exception": false,
     "start_time": "2025-03-16T13:33:44.690391",
     "status": "completed"
    },
    "tags": []
   },
   "outputs": [],
   "source": [
    "train_transforms = transforms.Compose([\n",
    "    # transforms.CenterCrop(100),\n",
    "    transforms.Resize(150, Image.LANCZOS),\n",
    "    transforms.RandomHorizontalFlip(p=0.5),\n",
    "    transforms.RandomVerticalFlip(p=0.5),\n",
    "    transforms.RandomRotation(degrees=30),\n",
    "    transforms.ToTensor(),\n",
    "    transforms.Normalize(mean=[0.5], std=[0.5])\n",
    "])\n",
    "\n",
    "val_transforms = transforms.Compose([\n",
    "        transforms.Resize(150, Image.LANCZOS),\n",
    "        transforms.ToTensor(),\n",
    "        transforms.Normalize(mean=[0.5], std=[0.5])\n",
    "])"
   ]
  },
  {
   "cell_type": "code",
   "execution_count": 5,
   "id": "36a69acc",
   "metadata": {
    "execution": {
     "iopub.execute_input": "2025-03-16T13:33:44.707325Z",
     "iopub.status.busy": "2025-03-16T13:33:44.707086Z",
     "iopub.status.idle": "2025-03-16T13:33:44.753677Z",
     "shell.execute_reply": "2025-03-16T13:33:44.753142Z"
    },
    "papermill": {
     "duration": 0.051488,
     "end_time": "2025-03-16T13:33:44.754748",
     "exception": false,
     "start_time": "2025-03-16T13:33:44.703260",
     "status": "completed"
    },
    "tags": []
   },
   "outputs": [],
   "source": [
    "paired_transform = PairedTransform(transform=train_transforms)\n",
    "paired_transform_val = PairedTransform(transform=val_transforms)\n",
    "\n",
    "dataset_root = \"/kaggle/input/deeplense/SpecificTest_06_B/Dataset\"\n",
    "\n",
    "file_names = sorted([f for f in os.listdir(os.path.join(dataset_root, \"HR\")) if f.startswith(\"sample\") and f.endswith(\".npy\")])\n",
    "train_files, val_files = train_test_split(file_names, test_size=0.1, random_state=42)\n",
    "\n",
    "# Train MAE only on no_sub_train_files\n",
    "batch_size=256\n",
    "train_dataset = NPYSuperResolutionDataset(train_files, dataset_root, paired_transform)\n",
    "train_loader = DataLoader(train_dataset, batch_size=batch_size, num_workers=4, shuffle=True)\n",
    "\n",
    "# Validation set for MAE (later used in classification also)\n",
    "val_dataset = NPYSuperResolutionDataset(val_files, dataset_root, paired_transform_val)\n",
    "val_loader = DataLoader(val_dataset, batch_size=batch_size, num_workers=4, shuffle=False)"
   ]
  },
  {
   "cell_type": "markdown",
   "id": "a26f278a",
   "metadata": {
    "papermill": {
     "duration": 0.003314,
     "end_time": "2025-03-16T13:33:44.761596",
     "exception": false,
     "start_time": "2025-03-16T13:33:44.758282",
     "status": "completed"
    },
    "tags": []
   },
   "source": [
    "## Model Architecture"
   ]
  },
  {
   "cell_type": "code",
   "execution_count": 6,
   "id": "23ea832a",
   "metadata": {
    "execution": {
     "iopub.execute_input": "2025-03-16T13:33:44.769502Z",
     "iopub.status.busy": "2025-03-16T13:33:44.769299Z",
     "iopub.status.idle": "2025-03-16T13:33:44.772523Z",
     "shell.execute_reply": "2025-03-16T13:33:44.771940Z"
    },
    "papermill": {
     "duration": 0.008657,
     "end_time": "2025-03-16T13:33:44.773723",
     "exception": false,
     "start_time": "2025-03-16T13:33:44.765066",
     "status": "completed"
    },
    "tags": []
   },
   "outputs": [],
   "source": [
    "def print_trainable_parameters(model):\n",
    "    trainable_params = 0\n",
    "    all_param = 0\n",
    "    for _, param in model.named_parameters():\n",
    "        all_param += param.numel()\n",
    "        if param.requires_grad:\n",
    "            trainable_params += param.numel()\n",
    "    print(f\"trainable params: {trainable_params} || all params: {all_param} || trainable%: {100 * trainable_params / all_param}\")"
   ]
  },
  {
   "cell_type": "code",
   "execution_count": 7,
   "id": "86d7ae07",
   "metadata": {
    "execution": {
     "iopub.execute_input": "2025-03-16T13:33:44.781519Z",
     "iopub.status.busy": "2025-03-16T13:33:44.781319Z",
     "iopub.status.idle": "2025-03-16T13:33:44.791575Z",
     "shell.execute_reply": "2025-03-16T13:33:44.790985Z"
    },
    "papermill": {
     "duration": 0.015438,
     "end_time": "2025-03-16T13:33:44.792700",
     "exception": false,
     "start_time": "2025-03-16T13:33:44.777262",
     "status": "completed"
    },
    "tags": []
   },
   "outputs": [],
   "source": [
    "class EncoderViT(nn.Module):\n",
    "    def __init__(self, base=\"tiny\", p=0.25):\n",
    "        super(EncoderViT, self).__init__()\n",
    "\n",
    "        modelss = create_model(f\"vit_{base}_patch16_224\", pretrained=True)\n",
    "        modelss.patch_embed = nn.Identity()\n",
    "        modelss.head = nn.Identity() # now output shape is embed_dim (tiny: 192, base: 768)\n",
    "        self.set_dropout(modelss, p)\n",
    "\n",
    "        # self.model.pos_embed = nn.Identity()  # Bypass position encoding in timm\n",
    "        # Override `_pos_embed()` so ViT doesn’t add its own position embedding\n",
    "        # def forward_pos_embed(x):\n",
    "        #     return x \n",
    "        # self.model._pos_embed = forward_pos_embed\n",
    "\n",
    "        self.encoder_blocks = modelss.blocks\n",
    "        self.norm = modelss.norm\n",
    "\n",
    "    def set_dropout(self, model, p):\n",
    "        \"\"\"Recursively set dropout probability in a model.\"\"\"\n",
    "        for name, module in model.named_modules():\n",
    "            if isinstance(module, nn.Dropout):\n",
    "                module.p = p\n",
    "\n",
    "    def forward(self, x):\n",
    "        for block in self.encoder_blocks:\n",
    "            x = block(x)\n",
    "\n",
    "        x = self.norm(x)\n",
    "\n",
    "        return x\n",
    "\n",
    "class MAEDecoder(nn.Module):\n",
    "    def __init__(self, embed_dim=192, output_patch=256, num_layers=2, num_heads=6):\n",
    "        super().__init__()\n",
    "\n",
    "        # Transformer decoder layers\n",
    "        self.decoder_blocks = nn.Sequential(*[\n",
    "            nn.TransformerEncoderLayer(d_model=embed_dim, nhead=num_heads, dim_feedforward=embed_dim * 4)\n",
    "            for _ in range(num_layers)\n",
    "        ])\n",
    "\n",
    "        self.final_layer = nn.Linear(embed_dim, output_patch)  # Output patch embeddings\n",
    "\n",
    "    def forward(self, x):\n",
    "        x = self.decoder_blocks(x)  # Apply transformer decoder layers\n",
    "        return self.final_layer(x)  # Shape: [batch_size, num_patches, embed_dim]\n",
    "\n",
    "# Define the Encoder (ViT model)\n",
    "class SuperResolutionViT(nn.Module):\n",
    "    def __init__(self, base=\"tiny\", input_dim=256, embed_dim=192, num_patches=196, p=0.25):\n",
    "        super().__init__()\n",
    "        self.embed_dim = embed_dim\n",
    "        self.embedInput = nn.Linear(input_dim, self.embed_dim)\n",
    "        self.encoder = EncoderViT(base=base, p=p)\n",
    "        self.decoder = MAEDecoder(output_patch=input_dim, embed_dim=embed_dim)\n",
    "        checkpoint = torch.load(\"/kaggle/input/specific_task_06/pytorch/default/2/encoder_embedInput.pth\", weights_only=True)\n",
    "\n",
    "        self.embedInput.load_state_dict(checkpoint[\"embedInput\"])\n",
    "        self.encoder.load_state_dict(checkpoint[\"encoder\"])\n",
    "\n",
    "        self.num_patches = num_patches\n",
    "\n",
    "        # Compute and store full position encoding ONCE\n",
    "        self.register_buffer(\"full_position_encoding\", self.sinusoidal_position_encoding(num_patches, self.embed_dim).unsqueeze(0))\n",
    "        # self.full_position_encoding = nn.Parameter(torch.randn(1, num_patches, self.embed_dim))  # Learnable\n",
    "\n",
    "    def forward(self, x):\n",
    "        batch_size = x.shape[0]\n",
    "        full_pos_encoding = self.full_position_encoding.expand(batch_size, -1, -1)\n",
    "\n",
    "        x = self.embedInput(x) + full_pos_encoding # (bs, visible_patches, embed_dim)\n",
    "\n",
    "        # Encode only visible patches\n",
    "        encoded = self.encoder(x)\n",
    "\n",
    "        # Decode\n",
    "        full_pos_encoding = self.full_position_encoding.expand(batch_size, -1, -1)  # Shape: [batch_size, 196, embed_dim]\n",
    "        full_tokens = encoded + full_pos_encoding\n",
    "\n",
    "        reconstructed = self.decoder(full_tokens)\n",
    "        return reconstructed\n",
    "\n",
    "    def sinusoidal_position_encoding(self, num_patches, embed_dim):\n",
    "        position = torch.arange(num_patches).unsqueeze(1)  # Shape: (num_patches, 1)\n",
    "        div_term = torch.exp(torch.arange(0, embed_dim, 2) * (-math.log(10000.0) / embed_dim))\n",
    "\n",
    "        pe = torch.zeros(num_patches, embed_dim)\n",
    "        pe[:, 1::2] = torch.sin(position * div_term)\n",
    "        pe[:, 0::2] = torch.cos(position * div_term)\n",
    "\n",
    "        return pe  # Shape: (num_patches, embed_dim)"
   ]
  },
  {
   "cell_type": "markdown",
   "id": "2b648876",
   "metadata": {
    "papermill": {
     "duration": 0.0033,
     "end_time": "2025-03-16T13:33:44.799494",
     "exception": false,
     "start_time": "2025-03-16T13:33:44.796194",
     "status": "completed"
    },
    "tags": []
   },
   "source": [
    "## Training"
   ]
  },
  {
   "cell_type": "code",
   "execution_count": 8,
   "id": "87c035a3",
   "metadata": {
    "execution": {
     "iopub.execute_input": "2025-03-16T13:33:44.807092Z",
     "iopub.status.busy": "2025-03-16T13:33:44.806887Z",
     "iopub.status.idle": "2025-03-16T13:33:44.809596Z",
     "shell.execute_reply": "2025-03-16T13:33:44.809022Z"
    },
    "papermill": {
     "duration": 0.007784,
     "end_time": "2025-03-16T13:33:44.810770",
     "exception": false,
     "start_time": "2025-03-16T13:33:44.802986",
     "status": "completed"
    },
    "tags": []
   },
   "outputs": [],
   "source": [
    "torch.cuda.empty_cache()"
   ]
  },
  {
   "cell_type": "code",
   "execution_count": 9,
   "id": "46fdcc8a",
   "metadata": {
    "execution": {
     "iopub.execute_input": "2025-03-16T13:33:44.818387Z",
     "iopub.status.busy": "2025-03-16T13:33:44.818162Z",
     "iopub.status.idle": "2025-03-16T13:33:44.821732Z",
     "shell.execute_reply": "2025-03-16T13:33:44.821155Z"
    },
    "papermill": {
     "duration": 0.008412,
     "end_time": "2025-03-16T13:33:44.822729",
     "exception": false,
     "start_time": "2025-03-16T13:33:44.814317",
     "status": "completed"
    },
    "tags": []
   },
   "outputs": [],
   "source": [
    "def image_to_patches(img_tensor, patch_size=16):\n",
    "    _, C, H, W = img_tensor.shape\n",
    "    num_patches = (H // patch_size) * (W // patch_size)\n",
    "\n",
    "    # Split into patches\n",
    "    img_patches = img_tensor.unfold(2, patch_size, patch_size) # [1, 1, 224, 224] -> [1, 1, 14, 224, 16]\n",
    "    img_patches = img_patches.unfold(3, patch_size, patch_size)  # [1, 1, 14, 224, 16] -> [1, 1, 14, 14, 16, 16]\n",
    "    img_patches = img_patches.contiguous().view(-1, num_patches, patch_size * patch_size)  # Flatten patches [1, 1, 14, 14, 16, 16] -> [1, 196, 256]\n",
    "\n",
    "    return img_patches"
   ]
  },
  {
   "cell_type": "code",
   "execution_count": 10,
   "id": "94769e27",
   "metadata": {
    "execution": {
     "iopub.execute_input": "2025-03-16T13:33:44.830359Z",
     "iopub.status.busy": "2025-03-16T13:33:44.830155Z",
     "iopub.status.idle": "2025-03-16T15:22:43.385581Z",
     "shell.execute_reply": "2025-03-16T15:22:43.384280Z"
    },
    "papermill": {
     "duration": 6538.560681,
     "end_time": "2025-03-16T15:22:43.386917",
     "exception": false,
     "start_time": "2025-03-16T13:33:44.826236",
     "status": "completed"
    },
    "tags": []
   },
   "outputs": [
    {
     "data": {
      "application/vnd.jupyter.widget-view+json": {
       "model_id": "2a772384b046407f895e1450fe0252ee",
       "version_major": 2,
       "version_minor": 0
      },
      "text/plain": [
       "model.safetensors:   0%|          | 0.00/22.9M [00:00<?, ?B/s]"
      ]
     },
     "metadata": {},
     "output_type": "display_data"
    },
    {
     "name": "stderr",
     "output_type": "stream",
     "text": [
      "Epoch 1/200:   0%|          | 0/36 [00:00<?, ?it/s]/usr/local/lib/python3.10/dist-packages/torch/nn/modules/linear.py:125: UserWarning: Attempting to run cuBLAS, but there was no current CUDA context! Attempting to set the primary context... (Triggered internally at ../aten/src/ATen/cuda/CublasHandlePool.cpp:135.)\n",
      "  return F.linear(input, self.weight, self.bias)\n",
      "Epoch 1/200: 100%|██████████| 36/36 [00:38<00:00,  1.07s/it]\n",
      "Epoch 1/200: 100%|██████████| 4/4 [00:04<00:00,  1.25s/it]\n"
     ]
    },
    {
     "name": "stdout",
     "output_type": "stream",
     "text": [
      "Epoch [1/200] | Train Loss: 0.2618 | Val Loss: 0.0580 | Train_PSNR: 10.44 | Val_PSNR: 15.51 | Train_SSIM: 0.0726 | Val_SSIM: 0.4528\n",
      "Model Saved (Best PSNR)\n",
      "Model Saved (Best SSIM)\n"
     ]
    },
    {
     "name": "stderr",
     "output_type": "stream",
     "text": [
      "Epoch 2/200: 100%|██████████| 36/36 [00:30<00:00,  1.20it/s]\n",
      "Epoch 2/200: 100%|██████████| 4/4 [00:02<00:00,  1.54it/s]\n"
     ]
    },
    {
     "name": "stdout",
     "output_type": "stream",
     "text": [
      "Epoch [2/200] | Train Loss: 0.0685 | Val Loss: 0.0541 | Train_PSNR: 14.75 | Val_PSNR: 15.86 | Train_SSIM: 0.1941 | Val_SSIM: 0.6776\n",
      "Model Saved (Best PSNR)\n",
      "Model Saved (Best SSIM)\n"
     ]
    },
    {
     "name": "stderr",
     "output_type": "stream",
     "text": [
      "Epoch 3/200: 100%|██████████| 36/36 [00:32<00:00,  1.11it/s]\n",
      "Epoch 3/200: 100%|██████████| 4/4 [00:02<00:00,  1.41it/s]\n"
     ]
    },
    {
     "name": "stdout",
     "output_type": "stream",
     "text": [
      "Epoch [3/200] | Train Loss: 0.0625 | Val Loss: 0.0475 | Train_PSNR: 15.16 | Val_PSNR: 16.38 | Train_SSIM: 0.2153 | Val_SSIM: 0.4584\n",
      "Model Saved (Best PSNR)\n"
     ]
    },
    {
     "name": "stderr",
     "output_type": "stream",
     "text": [
      "Epoch 4/200: 100%|██████████| 36/36 [00:29<00:00,  1.22it/s]\n",
      "Epoch 4/200: 100%|██████████| 4/4 [00:02<00:00,  1.50it/s]\n"
     ]
    },
    {
     "name": "stdout",
     "output_type": "stream",
     "text": [
      "Epoch [4/200] | Train Loss: 0.0553 | Val Loss: 0.0430 | Train_PSNR: 15.68 | Val_PSNR: 16.82 | Train_SSIM: 0.2281 | Val_SSIM: 0.6276\n",
      "Model Saved (Best PSNR)\n"
     ]
    },
    {
     "name": "stderr",
     "output_type": "stream",
     "text": [
      "Epoch 5/200: 100%|██████████| 36/36 [00:30<00:00,  1.20it/s]\n",
      "Epoch 5/200: 100%|██████████| 4/4 [00:02<00:00,  1.57it/s]\n"
     ]
    },
    {
     "name": "stdout",
     "output_type": "stream",
     "text": [
      "Epoch [5/200] | Train Loss: 0.0518 | Val Loss: 0.0420 | Train_PSNR: 15.97 | Val_PSNR: 16.92 | Train_SSIM: 0.2612 | Val_SSIM: 0.7230\n",
      "Model Saved (Best PSNR)\n",
      "Model Saved (Best SSIM)\n"
     ]
    },
    {
     "name": "stderr",
     "output_type": "stream",
     "text": [
      "Epoch 6/200: 100%|██████████| 36/36 [00:30<00:00,  1.18it/s]\n",
      "Epoch 6/200: 100%|██████████| 4/4 [00:02<00:00,  1.60it/s]\n"
     ]
    },
    {
     "name": "stdout",
     "output_type": "stream",
     "text": [
      "Epoch [6/200] | Train Loss: 0.0501 | Val Loss: 0.0415 | Train_PSNR: 16.12 | Val_PSNR: 16.98 | Train_SSIM: 0.2828 | Val_SSIM: 0.7344\n",
      "Model Saved (Best PSNR)\n",
      "Model Saved (Best SSIM)\n"
     ]
    },
    {
     "name": "stderr",
     "output_type": "stream",
     "text": [
      "Epoch 7/200: 100%|██████████| 36/36 [00:30<00:00,  1.20it/s]\n",
      "Epoch 7/200: 100%|██████████| 4/4 [00:02<00:00,  1.61it/s]\n"
     ]
    },
    {
     "name": "stdout",
     "output_type": "stream",
     "text": [
      "Epoch [7/200] | Train Loss: 0.0489 | Val Loss: 0.0405 | Train_PSNR: 16.23 | Val_PSNR: 17.08 | Train_SSIM: 0.2999 | Val_SSIM: 0.7283\n",
      "Model Saved (Best PSNR)\n"
     ]
    },
    {
     "name": "stderr",
     "output_type": "stream",
     "text": [
      "Epoch 8/200: 100%|██████████| 36/36 [00:30<00:00,  1.20it/s]\n",
      "Epoch 8/200: 100%|██████████| 4/4 [00:02<00:00,  1.55it/s]\n"
     ]
    },
    {
     "name": "stdout",
     "output_type": "stream",
     "text": [
      "Epoch [8/200] | Train Loss: 0.0472 | Val Loss: 0.0392 | Train_PSNR: 16.38 | Val_PSNR: 17.23 | Train_SSIM: 0.3155 | Val_SSIM: 0.7265\n",
      "Model Saved (Best PSNR)\n"
     ]
    },
    {
     "name": "stderr",
     "output_type": "stream",
     "text": [
      "Epoch 9/200: 100%|██████████| 36/36 [00:30<00:00,  1.19it/s]\n",
      "Epoch 9/200: 100%|██████████| 4/4 [00:02<00:00,  1.61it/s]\n"
     ]
    },
    {
     "name": "stdout",
     "output_type": "stream",
     "text": [
      "Epoch [9/200] | Train Loss: 0.0456 | Val Loss: 0.0381 | Train_PSNR: 16.53 | Val_PSNR: 17.36 | Train_SSIM: 0.3321 | Val_SSIM: 0.7247\n",
      "Model Saved (Best PSNR)\n"
     ]
    },
    {
     "name": "stderr",
     "output_type": "stream",
     "text": [
      "Epoch 10/200: 100%|██████████| 36/36 [00:29<00:00,  1.21it/s]\n",
      "Epoch 10/200: 100%|██████████| 4/4 [00:02<00:00,  1.56it/s]\n"
     ]
    },
    {
     "name": "stdout",
     "output_type": "stream",
     "text": [
      "Epoch [10/200] | Train Loss: 0.0444 | Val Loss: 0.0374 | Train_PSNR: 16.65 | Val_PSNR: 17.43 | Train_SSIM: 0.3499 | Val_SSIM: 0.7310\n",
      "Model Saved (Best PSNR)\n"
     ]
    },
    {
     "name": "stderr",
     "output_type": "stream",
     "text": [
      "Epoch 11/200: 100%|██████████| 36/36 [00:29<00:00,  1.20it/s]\n",
      "Epoch 11/200: 100%|██████████| 4/4 [00:02<00:00,  1.61it/s]\n"
     ]
    },
    {
     "name": "stdout",
     "output_type": "stream",
     "text": [
      "Epoch [11/200] | Train Loss: 0.0435 | Val Loss: 0.0371 | Train_PSNR: 16.74 | Val_PSNR: 17.47 | Train_SSIM: 0.3684 | Val_SSIM: 0.7361\n",
      "Model Saved (Best PSNR)\n",
      "Model Saved (Best SSIM)\n"
     ]
    },
    {
     "name": "stderr",
     "output_type": "stream",
     "text": [
      "Epoch 12/200: 100%|██████████| 36/36 [00:30<00:00,  1.18it/s]\n",
      "Epoch 12/200: 100%|██████████| 4/4 [00:02<00:00,  1.58it/s]\n"
     ]
    },
    {
     "name": "stdout",
     "output_type": "stream",
     "text": [
      "Epoch [12/200] | Train Loss: 0.0426 | Val Loss: 0.0368 | Train_PSNR: 16.83 | Val_PSNR: 17.50 | Train_SSIM: 0.3864 | Val_SSIM: 0.7395\n",
      "Model Saved (Best PSNR)\n",
      "Model Saved (Best SSIM)\n"
     ]
    },
    {
     "name": "stderr",
     "output_type": "stream",
     "text": [
      "Epoch 13/200: 100%|██████████| 36/36 [00:29<00:00,  1.20it/s]\n",
      "Epoch 13/200: 100%|██████████| 4/4 [00:02<00:00,  1.59it/s]\n"
     ]
    },
    {
     "name": "stdout",
     "output_type": "stream",
     "text": [
      "Epoch [13/200] | Train Loss: 0.0421 | Val Loss: 0.0365 | Train_PSNR: 16.87 | Val_PSNR: 17.53 | Train_SSIM: 0.4032 | Val_SSIM: 0.7421\n",
      "Model Saved (Best PSNR)\n",
      "Model Saved (Best SSIM)\n"
     ]
    },
    {
     "name": "stderr",
     "output_type": "stream",
     "text": [
      "Epoch 14/200: 100%|██████████| 36/36 [00:30<00:00,  1.20it/s]\n",
      "Epoch 14/200: 100%|██████████| 4/4 [00:02<00:00,  1.59it/s]\n"
     ]
    },
    {
     "name": "stdout",
     "output_type": "stream",
     "text": [
      "Epoch [14/200] | Train Loss: 0.0416 | Val Loss: 0.0361 | Train_PSNR: 16.93 | Val_PSNR: 17.58 | Train_SSIM: 0.4191 | Val_SSIM: 0.7450\n",
      "Model Saved (Best PSNR)\n",
      "Model Saved (Best SSIM)\n"
     ]
    },
    {
     "name": "stderr",
     "output_type": "stream",
     "text": [
      "Epoch 15/200: 100%|██████████| 36/36 [00:29<00:00,  1.21it/s]\n",
      "Epoch 15/200: 100%|██████████| 4/4 [00:02<00:00,  1.61it/s]\n"
     ]
    },
    {
     "name": "stdout",
     "output_type": "stream",
     "text": [
      "Epoch [15/200] | Train Loss: 0.0408 | Val Loss: 0.0359 | Train_PSNR: 17.01 | Val_PSNR: 17.61 | Train_SSIM: 0.4334 | Val_SSIM: 0.7420\n",
      "Model Saved (Best PSNR)\n"
     ]
    },
    {
     "name": "stderr",
     "output_type": "stream",
     "text": [
      "Epoch 16/200: 100%|██████████| 36/36 [00:30<00:00,  1.20it/s]\n",
      "Epoch 16/200: 100%|██████████| 4/4 [00:02<00:00,  1.56it/s]\n"
     ]
    },
    {
     "name": "stdout",
     "output_type": "stream",
     "text": [
      "Epoch [16/200] | Train Loss: 0.0406 | Val Loss: 0.0354 | Train_PSNR: 17.04 | Val_PSNR: 17.66 | Train_SSIM: 0.4466 | Val_SSIM: 0.7378\n",
      "Model Saved (Best PSNR)\n"
     ]
    },
    {
     "name": "stderr",
     "output_type": "stream",
     "text": [
      "Epoch 17/200: 100%|██████████| 36/36 [00:29<00:00,  1.20it/s]\n",
      "Epoch 17/200: 100%|██████████| 4/4 [00:02<00:00,  1.41it/s]\n"
     ]
    },
    {
     "name": "stdout",
     "output_type": "stream",
     "text": [
      "Epoch [17/200] | Train Loss: 0.0399 | Val Loss: 0.0349 | Train_PSNR: 17.12 | Val_PSNR: 17.72 | Train_SSIM: 0.4577 | Val_SSIM: 0.7307\n",
      "Model Saved (Best PSNR)\n"
     ]
    },
    {
     "name": "stderr",
     "output_type": "stream",
     "text": [
      "Epoch 18/200: 100%|██████████| 36/36 [00:29<00:00,  1.20it/s]\n",
      "Epoch 18/200: 100%|██████████| 4/4 [00:02<00:00,  1.61it/s]\n"
     ]
    },
    {
     "name": "stdout",
     "output_type": "stream",
     "text": [
      "Epoch [18/200] | Train Loss: 0.0391 | Val Loss: 0.0341 | Train_PSNR: 17.20 | Val_PSNR: 17.83 | Train_SSIM: 0.4653 | Val_SSIM: 0.7076\n",
      "Model Saved (Best PSNR)\n"
     ]
    },
    {
     "name": "stderr",
     "output_type": "stream",
     "text": [
      "Epoch 19/200: 100%|██████████| 36/36 [00:29<00:00,  1.20it/s]\n",
      "Epoch 19/200: 100%|██████████| 4/4 [00:02<00:00,  1.61it/s]\n"
     ]
    },
    {
     "name": "stdout",
     "output_type": "stream",
     "text": [
      "Epoch [19/200] | Train Loss: 0.0381 | Val Loss: 0.0346 | Train_PSNR: 17.30 | Val_PSNR: 17.76 | Train_SSIM: 0.4657 | Val_SSIM: 0.6535\n"
     ]
    },
    {
     "name": "stderr",
     "output_type": "stream",
     "text": [
      "Epoch 20/200: 100%|██████████| 36/36 [00:30<00:00,  1.19it/s]\n",
      "Epoch 20/200: 100%|██████████| 4/4 [00:02<00:00,  1.60it/s]\n"
     ]
    },
    {
     "name": "stdout",
     "output_type": "stream",
     "text": [
      "Epoch [20/200] | Train Loss: 0.0366 | Val Loss: 0.0331 | Train_PSNR: 17.48 | Val_PSNR: 17.94 | Train_SSIM: 0.4600 | Val_SSIM: 0.6189\n",
      "Model Saved (Best PSNR)\n"
     ]
    },
    {
     "name": "stderr",
     "output_type": "stream",
     "text": [
      "Epoch 21/200: 100%|██████████| 36/36 [00:29<00:00,  1.21it/s]\n",
      "Epoch 21/200: 100%|██████████| 4/4 [00:02<00:00,  1.59it/s]\n"
     ]
    },
    {
     "name": "stdout",
     "output_type": "stream",
     "text": [
      "Epoch [21/200] | Train Loss: 0.0344 | Val Loss: 0.0271 | Train_PSNR: 17.75 | Val_PSNR: 18.79 | Train_SSIM: 0.4547 | Val_SSIM: 0.6439\n",
      "Model Saved (Best PSNR)\n"
     ]
    },
    {
     "name": "stderr",
     "output_type": "stream",
     "text": [
      "Epoch 22/200: 100%|██████████| 36/36 [00:30<00:00,  1.20it/s]\n",
      "Epoch 22/200: 100%|██████████| 4/4 [00:02<00:00,  1.59it/s]\n"
     ]
    },
    {
     "name": "stdout",
     "output_type": "stream",
     "text": [
      "Epoch [22/200] | Train Loss: 0.0315 | Val Loss: 0.0243 | Train_PSNR: 18.13 | Val_PSNR: 19.30 | Train_SSIM: 0.4578 | Val_SSIM: 0.6607\n",
      "Model Saved (Best PSNR)\n"
     ]
    },
    {
     "name": "stderr",
     "output_type": "stream",
     "text": [
      "Epoch 23/200: 100%|██████████| 36/36 [00:30<00:00,  1.19it/s]\n",
      "Epoch 23/200: 100%|██████████| 4/4 [00:02<00:00,  1.58it/s]\n"
     ]
    },
    {
     "name": "stdout",
     "output_type": "stream",
     "text": [
      "Epoch [23/200] | Train Loss: 0.0287 | Val Loss: 0.0240 | Train_PSNR: 18.53 | Val_PSNR: 19.38 | Train_SSIM: 0.4631 | Val_SSIM: 0.6605\n",
      "Model Saved (Best PSNR)\n"
     ]
    },
    {
     "name": "stderr",
     "output_type": "stream",
     "text": [
      "Epoch 24/200: 100%|██████████| 36/36 [00:29<00:00,  1.21it/s]\n",
      "Epoch 24/200: 100%|██████████| 4/4 [00:02<00:00,  1.59it/s]\n"
     ]
    },
    {
     "name": "stdout",
     "output_type": "stream",
     "text": [
      "Epoch [24/200] | Train Loss: 0.0266 | Val Loss: 0.0269 | Train_PSNR: 18.85 | Val_PSNR: 18.91 | Train_SSIM: 0.4757 | Val_SSIM: 0.6326\n"
     ]
    },
    {
     "name": "stderr",
     "output_type": "stream",
     "text": [
      "Epoch 25/200: 100%|██████████| 36/36 [00:29<00:00,  1.21it/s]\n",
      "Epoch 25/200: 100%|██████████| 4/4 [00:02<00:00,  1.60it/s]\n"
     ]
    },
    {
     "name": "stdout",
     "output_type": "stream",
     "text": [
      "Epoch [25/200] | Train Loss: 0.0256 | Val Loss: 0.0222 | Train_PSNR: 19.03 | Val_PSNR: 19.79 | Train_SSIM: 0.4871 | Val_SSIM: 0.6829\n",
      "Model Saved (Best PSNR)\n"
     ]
    },
    {
     "name": "stderr",
     "output_type": "stream",
     "text": [
      "Epoch 26/200: 100%|██████████| 36/36 [00:29<00:00,  1.21it/s]\n",
      "Epoch 26/200: 100%|██████████| 4/4 [00:02<00:00,  1.60it/s]\n"
     ]
    },
    {
     "name": "stdout",
     "output_type": "stream",
     "text": [
      "Epoch [26/200] | Train Loss: 0.0243 | Val Loss: 0.0228 | Train_PSNR: 19.26 | Val_PSNR: 19.67 | Train_SSIM: 0.4990 | Val_SSIM: 0.6845\n"
     ]
    },
    {
     "name": "stderr",
     "output_type": "stream",
     "text": [
      "Epoch 27/200: 100%|██████████| 36/36 [00:29<00:00,  1.20it/s]\n",
      "Epoch 27/200: 100%|██████████| 4/4 [00:02<00:00,  1.62it/s]\n"
     ]
    },
    {
     "name": "stdout",
     "output_type": "stream",
     "text": [
      "Epoch [27/200] | Train Loss: 0.0233 | Val Loss: 0.0220 | Train_PSNR: 19.46 | Val_PSNR: 19.83 | Train_SSIM: 0.5117 | Val_SSIM: 0.6965\n",
      "Model Saved (Best PSNR)\n"
     ]
    },
    {
     "name": "stderr",
     "output_type": "stream",
     "text": [
      "Epoch 28/200: 100%|██████████| 36/36 [00:30<00:00,  1.19it/s]\n",
      "Epoch 28/200: 100%|██████████| 4/4 [00:02<00:00,  1.61it/s]\n"
     ]
    },
    {
     "name": "stdout",
     "output_type": "stream",
     "text": [
      "Epoch [28/200] | Train Loss: 0.0226 | Val Loss: 0.0226 | Train_PSNR: 19.59 | Val_PSNR: 19.73 | Train_SSIM: 0.5214 | Val_SSIM: 0.6949\n"
     ]
    },
    {
     "name": "stderr",
     "output_type": "stream",
     "text": [
      "Epoch 29/200: 100%|██████████| 36/36 [00:29<00:00,  1.20it/s]\n",
      "Epoch 29/200: 100%|██████████| 4/4 [00:02<00:00,  1.60it/s]\n"
     ]
    },
    {
     "name": "stdout",
     "output_type": "stream",
     "text": [
      "Epoch [29/200] | Train Loss: 0.0219 | Val Loss: 0.0202 | Train_PSNR: 19.73 | Val_PSNR: 20.23 | Train_SSIM: 0.5302 | Val_SSIM: 0.7199\n",
      "Model Saved (Best PSNR)\n"
     ]
    },
    {
     "name": "stderr",
     "output_type": "stream",
     "text": [
      "Epoch 30/200: 100%|██████████| 36/36 [00:29<00:00,  1.21it/s]\n",
      "Epoch 30/200: 100%|██████████| 4/4 [00:02<00:00,  1.59it/s]\n"
     ]
    },
    {
     "name": "stdout",
     "output_type": "stream",
     "text": [
      "Epoch [30/200] | Train Loss: 0.0215 | Val Loss: 0.0223 | Train_PSNR: 19.82 | Val_PSNR: 19.78 | Train_SSIM: 0.5384 | Val_SSIM: 0.7110\n"
     ]
    },
    {
     "name": "stderr",
     "output_type": "stream",
     "text": [
      "Epoch 31/200: 100%|██████████| 36/36 [00:29<00:00,  1.21it/s]\n",
      "Epoch 31/200: 100%|██████████| 4/4 [00:02<00:00,  1.62it/s]\n"
     ]
    },
    {
     "name": "stdout",
     "output_type": "stream",
     "text": [
      "Epoch [31/200] | Train Loss: 0.0210 | Val Loss: 0.0214 | Train_PSNR: 19.92 | Val_PSNR: 19.94 | Train_SSIM: 0.5469 | Val_SSIM: 0.7155\n"
     ]
    },
    {
     "name": "stderr",
     "output_type": "stream",
     "text": [
      "Epoch 32/200: 100%|██████████| 36/36 [00:29<00:00,  1.20it/s]\n",
      "Epoch 32/200: 100%|██████████| 4/4 [00:02<00:00,  1.56it/s]\n"
     ]
    },
    {
     "name": "stdout",
     "output_type": "stream",
     "text": [
      "Epoch [32/200] | Train Loss: 0.0204 | Val Loss: 0.0198 | Train_PSNR: 20.05 | Val_PSNR: 20.30 | Train_SSIM: 0.5549 | Val_SSIM: 0.7297\n",
      "Model Saved (Best PSNR)\n"
     ]
    },
    {
     "name": "stderr",
     "output_type": "stream",
     "text": [
      "Epoch 33/200: 100%|██████████| 36/36 [00:30<00:00,  1.19it/s]\n",
      "Epoch 33/200: 100%|██████████| 4/4 [00:02<00:00,  1.62it/s]\n"
     ]
    },
    {
     "name": "stdout",
     "output_type": "stream",
     "text": [
      "Epoch [33/200] | Train Loss: 0.0202 | Val Loss: 0.0207 | Train_PSNR: 20.10 | Val_PSNR: 20.09 | Train_SSIM: 0.5609 | Val_SSIM: 0.7285\n"
     ]
    },
    {
     "name": "stderr",
     "output_type": "stream",
     "text": [
      "Epoch 34/200: 100%|██████████| 36/36 [00:29<00:00,  1.20it/s]\n",
      "Epoch 34/200: 100%|██████████| 4/4 [00:02<00:00,  1.61it/s]\n"
     ]
    },
    {
     "name": "stdout",
     "output_type": "stream",
     "text": [
      "Epoch [34/200] | Train Loss: 0.0198 | Val Loss: 0.0179 | Train_PSNR: 20.17 | Val_PSNR: 20.73 | Train_SSIM: 0.5662 | Val_SSIM: 0.7454\n",
      "Model Saved (Best PSNR)\n",
      "Model Saved (Best SSIM)\n"
     ]
    },
    {
     "name": "stderr",
     "output_type": "stream",
     "text": [
      "Epoch 35/200: 100%|██████████| 36/36 [00:30<00:00,  1.20it/s]\n",
      "Epoch 35/200: 100%|██████████| 4/4 [00:02<00:00,  1.62it/s]\n"
     ]
    },
    {
     "name": "stdout",
     "output_type": "stream",
     "text": [
      "Epoch [35/200] | Train Loss: 0.0193 | Val Loss: 0.0190 | Train_PSNR: 20.29 | Val_PSNR: 20.43 | Train_SSIM: 0.5726 | Val_SSIM: 0.7421\n"
     ]
    },
    {
     "name": "stderr",
     "output_type": "stream",
     "text": [
      "Epoch 36/200: 100%|██████████| 36/36 [00:29<00:00,  1.21it/s]\n",
      "Epoch 36/200: 100%|██████████| 4/4 [00:02<00:00,  1.61it/s]\n"
     ]
    },
    {
     "name": "stdout",
     "output_type": "stream",
     "text": [
      "Epoch [36/200] | Train Loss: 0.0189 | Val Loss: 0.0195 | Train_PSNR: 20.38 | Val_PSNR: 20.32 | Train_SSIM: 0.5775 | Val_SSIM: 0.7355\n"
     ]
    },
    {
     "name": "stderr",
     "output_type": "stream",
     "text": [
      "Epoch 37/200: 100%|██████████| 36/36 [00:30<00:00,  1.20it/s]\n",
      "Epoch 37/200: 100%|██████████| 4/4 [00:02<00:00,  1.62it/s]\n"
     ]
    },
    {
     "name": "stdout",
     "output_type": "stream",
     "text": [
      "Epoch [37/200] | Train Loss: 0.0186 | Val Loss: 0.0201 | Train_PSNR: 20.46 | Val_PSNR: 20.16 | Train_SSIM: 0.5822 | Val_SSIM: 0.7316\n"
     ]
    },
    {
     "name": "stderr",
     "output_type": "stream",
     "text": [
      "Epoch 38/200: 100%|██████████| 36/36 [00:30<00:00,  1.19it/s]\n",
      "Epoch 38/200: 100%|██████████| 4/4 [00:02<00:00,  1.58it/s]\n"
     ]
    },
    {
     "name": "stdout",
     "output_type": "stream",
     "text": [
      "Epoch [38/200] | Train Loss: 0.0182 | Val Loss: 0.0209 | Train_PSNR: 20.57 | Val_PSNR: 20.00 | Train_SSIM: 0.5853 | Val_SSIM: 0.7308\n"
     ]
    },
    {
     "name": "stderr",
     "output_type": "stream",
     "text": [
      "Epoch 39/200: 100%|██████████| 36/36 [00:29<00:00,  1.20it/s]\n",
      "Epoch 39/200: 100%|██████████| 4/4 [00:02<00:00,  1.58it/s]\n"
     ]
    },
    {
     "name": "stdout",
     "output_type": "stream",
     "text": [
      "Epoch [39/200] | Train Loss: 0.0178 | Val Loss: 0.0178 | Train_PSNR: 20.65 | Val_PSNR: 20.70 | Train_SSIM: 0.5883 | Val_SSIM: 0.7513\n",
      "Model Saved (Best SSIM)\n"
     ]
    },
    {
     "name": "stderr",
     "output_type": "stream",
     "text": [
      "Epoch 40/200: 100%|██████████| 36/36 [00:29<00:00,  1.20it/s]\n",
      "Epoch 40/200: 100%|██████████| 4/4 [00:02<00:00,  1.60it/s]\n"
     ]
    },
    {
     "name": "stdout",
     "output_type": "stream",
     "text": [
      "Epoch [40/200] | Train Loss: 0.0173 | Val Loss: 0.0173 | Train_PSNR: 20.79 | Val_PSNR: 20.82 | Train_SSIM: 0.5946 | Val_SSIM: 0.7528\n",
      "Model Saved (Best PSNR)\n",
      "Model Saved (Best SSIM)\n"
     ]
    },
    {
     "name": "stderr",
     "output_type": "stream",
     "text": [
      "Epoch 41/200: 100%|██████████| 36/36 [00:29<00:00,  1.21it/s]\n",
      "Epoch 41/200: 100%|██████████| 4/4 [00:02<00:00,  1.59it/s]\n"
     ]
    },
    {
     "name": "stdout",
     "output_type": "stream",
     "text": [
      "Epoch [41/200] | Train Loss: 0.0170 | Val Loss: 0.0154 | Train_PSNR: 20.88 | Val_PSNR: 21.36 | Train_SSIM: 0.5987 | Val_SSIM: 0.7655\n",
      "Model Saved (Best PSNR)\n",
      "Model Saved (Best SSIM)\n"
     ]
    },
    {
     "name": "stderr",
     "output_type": "stream",
     "text": [
      "Epoch 42/200: 100%|██████████| 36/36 [00:30<00:00,  1.20it/s]\n",
      "Epoch 42/200: 100%|██████████| 4/4 [00:02<00:00,  1.60it/s]\n"
     ]
    },
    {
     "name": "stdout",
     "output_type": "stream",
     "text": [
      "Epoch [42/200] | Train Loss: 0.0165 | Val Loss: 0.0149 | Train_PSNR: 21.00 | Val_PSNR: 21.47 | Train_SSIM: 0.6049 | Val_SSIM: 0.7671\n",
      "Model Saved (Best PSNR)\n",
      "Model Saved (Best SSIM)\n"
     ]
    },
    {
     "name": "stderr",
     "output_type": "stream",
     "text": [
      "Epoch 43/200: 100%|██████████| 36/36 [00:30<00:00,  1.19it/s]\n",
      "Epoch 43/200: 100%|██████████| 4/4 [00:02<00:00,  1.57it/s]\n"
     ]
    },
    {
     "name": "stdout",
     "output_type": "stream",
     "text": [
      "Epoch [43/200] | Train Loss: 0.0162 | Val Loss: 0.0152 | Train_PSNR: 21.07 | Val_PSNR: 21.40 | Train_SSIM: 0.6084 | Val_SSIM: 0.7691\n",
      "Model Saved (Best SSIM)\n"
     ]
    },
    {
     "name": "stderr",
     "output_type": "stream",
     "text": [
      "Epoch 44/200: 100%|██████████| 36/36 [00:29<00:00,  1.20it/s]\n",
      "Epoch 44/200: 100%|██████████| 4/4 [00:02<00:00,  1.59it/s]\n"
     ]
    },
    {
     "name": "stdout",
     "output_type": "stream",
     "text": [
      "Epoch [44/200] | Train Loss: 0.0158 | Val Loss: 0.0146 | Train_PSNR: 21.20 | Val_PSNR: 21.59 | Train_SSIM: 0.6138 | Val_SSIM: 0.7729\n",
      "Model Saved (Best PSNR)\n",
      "Model Saved (Best SSIM)\n"
     ]
    },
    {
     "name": "stderr",
     "output_type": "stream",
     "text": [
      "Epoch 45/200: 100%|██████████| 36/36 [00:29<00:00,  1.20it/s]\n",
      "Epoch 45/200: 100%|██████████| 4/4 [00:02<00:00,  1.56it/s]\n"
     ]
    },
    {
     "name": "stdout",
     "output_type": "stream",
     "text": [
      "Epoch [45/200] | Train Loss: 0.0156 | Val Loss: 0.0151 | Train_PSNR: 21.26 | Val_PSNR: 21.44 | Train_SSIM: 0.6177 | Val_SSIM: 0.7725\n"
     ]
    },
    {
     "name": "stderr",
     "output_type": "stream",
     "text": [
      "Epoch 46/200: 100%|██████████| 36/36 [00:29<00:00,  1.20it/s]\n",
      "Epoch 46/200: 100%|██████████| 4/4 [00:02<00:00,  1.59it/s]\n"
     ]
    },
    {
     "name": "stdout",
     "output_type": "stream",
     "text": [
      "Epoch [46/200] | Train Loss: 0.0153 | Val Loss: 0.0142 | Train_PSNR: 21.33 | Val_PSNR: 21.72 | Train_SSIM: 0.6196 | Val_SSIM: 0.7806\n",
      "Model Saved (Best PSNR)\n",
      "Model Saved (Best SSIM)\n"
     ]
    },
    {
     "name": "stderr",
     "output_type": "stream",
     "text": [
      "Epoch 47/200: 100%|██████████| 36/36 [00:29<00:00,  1.20it/s]\n",
      "Epoch 47/200: 100%|██████████| 4/4 [00:02<00:00,  1.55it/s]\n"
     ]
    },
    {
     "name": "stdout",
     "output_type": "stream",
     "text": [
      "Epoch [47/200] | Train Loss: 0.0149 | Val Loss: 0.0143 | Train_PSNR: 21.47 | Val_PSNR: 21.68 | Train_SSIM: 0.6255 | Val_SSIM: 0.7817\n",
      "Model Saved (Best SSIM)\n"
     ]
    },
    {
     "name": "stderr",
     "output_type": "stream",
     "text": [
      "Epoch 48/200: 100%|██████████| 36/36 [00:30<00:00,  1.19it/s]\n",
      "Epoch 48/200: 100%|██████████| 4/4 [00:02<00:00,  1.59it/s]\n"
     ]
    },
    {
     "name": "stdout",
     "output_type": "stream",
     "text": [
      "Epoch [48/200] | Train Loss: 0.0147 | Val Loss: 0.0142 | Train_PSNR: 21.52 | Val_PSNR: 21.69 | Train_SSIM: 0.6303 | Val_SSIM: 0.7825\n",
      "Model Saved (Best SSIM)\n"
     ]
    },
    {
     "name": "stderr",
     "output_type": "stream",
     "text": [
      "Epoch 49/200: 100%|██████████| 36/36 [00:30<00:00,  1.18it/s]\n",
      "Epoch 49/200: 100%|██████████| 4/4 [00:02<00:00,  1.56it/s]\n"
     ]
    },
    {
     "name": "stdout",
     "output_type": "stream",
     "text": [
      "Epoch [49/200] | Train Loss: 0.0144 | Val Loss: 0.0133 | Train_PSNR: 21.62 | Val_PSNR: 21.98 | Train_SSIM: 0.6340 | Val_SSIM: 0.7878\n",
      "Model Saved (Best PSNR)\n",
      "Model Saved (Best SSIM)\n"
     ]
    },
    {
     "name": "stderr",
     "output_type": "stream",
     "text": [
      "Epoch 50/200: 100%|██████████| 36/36 [00:30<00:00,  1.20it/s]\n",
      "Epoch 50/200: 100%|██████████| 4/4 [00:02<00:00,  1.51it/s]\n"
     ]
    },
    {
     "name": "stdout",
     "output_type": "stream",
     "text": [
      "Epoch [50/200] | Train Loss: 0.0145 | Val Loss: 0.0137 | Train_PSNR: 21.60 | Val_PSNR: 21.86 | Train_SSIM: 0.6352 | Val_SSIM: 0.7842\n"
     ]
    },
    {
     "name": "stderr",
     "output_type": "stream",
     "text": [
      "Epoch 51/200: 100%|██████████| 36/36 [00:29<00:00,  1.21it/s]\n",
      "Epoch 51/200: 100%|██████████| 4/4 [00:02<00:00,  1.41it/s]\n"
     ]
    },
    {
     "name": "stdout",
     "output_type": "stream",
     "text": [
      "Epoch [51/200] | Train Loss: 0.0137 | Val Loss: 0.0131 | Train_PSNR: 21.82 | Val_PSNR: 22.06 | Train_SSIM: 0.6400 | Val_SSIM: 0.7885\n",
      "Model Saved (Best PSNR)\n",
      "Model Saved (Best SSIM)\n"
     ]
    },
    {
     "name": "stderr",
     "output_type": "stream",
     "text": [
      "Epoch 52/200: 100%|██████████| 36/36 [00:29<00:00,  1.20it/s]\n",
      "Epoch 52/200: 100%|██████████| 4/4 [00:02<00:00,  1.54it/s]\n"
     ]
    },
    {
     "name": "stdout",
     "output_type": "stream",
     "text": [
      "Epoch [52/200] | Train Loss: 0.0135 | Val Loss: 0.0131 | Train_PSNR: 21.91 | Val_PSNR: 22.05 | Train_SSIM: 0.6427 | Val_SSIM: 0.7925\n",
      "Model Saved (Best SSIM)\n"
     ]
    },
    {
     "name": "stderr",
     "output_type": "stream",
     "text": [
      "Epoch 53/200: 100%|██████████| 36/36 [00:29<00:00,  1.21it/s]\n",
      "Epoch 53/200: 100%|██████████| 4/4 [00:02<00:00,  1.60it/s]\n"
     ]
    },
    {
     "name": "stdout",
     "output_type": "stream",
     "text": [
      "Epoch [53/200] | Train Loss: 0.0132 | Val Loss: 0.0137 | Train_PSNR: 22.00 | Val_PSNR: 21.84 | Train_SSIM: 0.6443 | Val_SSIM: 0.7875\n"
     ]
    },
    {
     "name": "stderr",
     "output_type": "stream",
     "text": [
      "Epoch 54/200: 100%|██████████| 36/36 [00:30<00:00,  1.19it/s]\n",
      "Epoch 54/200: 100%|██████████| 4/4 [00:02<00:00,  1.56it/s]\n"
     ]
    },
    {
     "name": "stdout",
     "output_type": "stream",
     "text": [
      "Epoch [54/200] | Train Loss: 0.0128 | Val Loss: 0.0124 | Train_PSNR: 22.11 | Val_PSNR: 22.28 | Train_SSIM: 0.6482 | Val_SSIM: 0.7972\n",
      "Model Saved (Best PSNR)\n",
      "Model Saved (Best SSIM)\n"
     ]
    },
    {
     "name": "stderr",
     "output_type": "stream",
     "text": [
      "Epoch 55/200: 100%|██████████| 36/36 [00:30<00:00,  1.19it/s]\n",
      "Epoch 55/200: 100%|██████████| 4/4 [00:02<00:00,  1.59it/s]\n"
     ]
    },
    {
     "name": "stdout",
     "output_type": "stream",
     "text": [
      "Epoch [55/200] | Train Loss: 0.0125 | Val Loss: 0.0121 | Train_PSNR: 22.21 | Val_PSNR: 22.40 | Train_SSIM: 0.6497 | Val_SSIM: 0.7912\n",
      "Model Saved (Best PSNR)\n"
     ]
    },
    {
     "name": "stderr",
     "output_type": "stream",
     "text": [
      "Epoch 56/200: 100%|██████████| 36/36 [00:29<00:00,  1.21it/s]\n",
      "Epoch 56/200: 100%|██████████| 4/4 [00:02<00:00,  1.59it/s]\n"
     ]
    },
    {
     "name": "stdout",
     "output_type": "stream",
     "text": [
      "Epoch [56/200] | Train Loss: 0.0120 | Val Loss: 0.0119 | Train_PSNR: 22.38 | Val_PSNR: 22.47 | Train_SSIM: 0.6548 | Val_SSIM: 0.8047\n",
      "Model Saved (Best PSNR)\n",
      "Model Saved (Best SSIM)\n"
     ]
    },
    {
     "name": "stderr",
     "output_type": "stream",
     "text": [
      "Epoch 57/200: 100%|██████████| 36/36 [00:30<00:00,  1.19it/s]\n",
      "Epoch 57/200: 100%|██████████| 4/4 [00:02<00:00,  1.57it/s]\n"
     ]
    },
    {
     "name": "stdout",
     "output_type": "stream",
     "text": [
      "Epoch [57/200] | Train Loss: 0.0117 | Val Loss: 0.0122 | Train_PSNR: 22.50 | Val_PSNR: 22.34 | Train_SSIM: 0.6568 | Val_SSIM: 0.7939\n"
     ]
    },
    {
     "name": "stderr",
     "output_type": "stream",
     "text": [
      "Epoch 58/200: 100%|██████████| 36/36 [00:30<00:00,  1.20it/s]\n",
      "Epoch 58/200: 100%|██████████| 4/4 [00:02<00:00,  1.56it/s]\n"
     ]
    },
    {
     "name": "stdout",
     "output_type": "stream",
     "text": [
      "Epoch [58/200] | Train Loss: 0.0114 | Val Loss: 0.0122 | Train_PSNR: 22.60 | Val_PSNR: 22.32 | Train_SSIM: 0.6591 | Val_SSIM: 0.7925\n"
     ]
    },
    {
     "name": "stderr",
     "output_type": "stream",
     "text": [
      "Epoch 59/200: 100%|██████████| 36/36 [00:30<00:00,  1.19it/s]\n",
      "Epoch 59/200: 100%|██████████| 4/4 [00:02<00:00,  1.62it/s]\n"
     ]
    },
    {
     "name": "stdout",
     "output_type": "stream",
     "text": [
      "Epoch [59/200] | Train Loss: 0.0110 | Val Loss: 0.0111 | Train_PSNR: 22.78 | Val_PSNR: 22.73 | Train_SSIM: 0.6627 | Val_SSIM: 0.8074\n",
      "Model Saved (Best PSNR)\n",
      "Model Saved (Best SSIM)\n"
     ]
    },
    {
     "name": "stderr",
     "output_type": "stream",
     "text": [
      "Epoch 60/200: 100%|██████████| 36/36 [00:29<00:00,  1.20it/s]\n",
      "Epoch 60/200: 100%|██████████| 4/4 [00:02<00:00,  1.62it/s]\n"
     ]
    },
    {
     "name": "stdout",
     "output_type": "stream",
     "text": [
      "Epoch [60/200] | Train Loss: 0.0106 | Val Loss: 0.0107 | Train_PSNR: 22.92 | Val_PSNR: 22.90 | Train_SSIM: 0.6674 | Val_SSIM: 0.8090\n",
      "Model Saved (Best PSNR)\n",
      "Model Saved (Best SSIM)\n"
     ]
    },
    {
     "name": "stderr",
     "output_type": "stream",
     "text": [
      "Epoch 61/200: 100%|██████████| 36/36 [00:29<00:00,  1.20it/s]\n",
      "Epoch 61/200: 100%|██████████| 4/4 [00:02<00:00,  1.59it/s]\n"
     ]
    },
    {
     "name": "stdout",
     "output_type": "stream",
     "text": [
      "Epoch [61/200] | Train Loss: 0.0102 | Val Loss: 0.0107 | Train_PSNR: 23.07 | Val_PSNR: 22.86 | Train_SSIM: 0.6705 | Val_SSIM: 0.8036\n"
     ]
    },
    {
     "name": "stderr",
     "output_type": "stream",
     "text": [
      "Epoch 62/200: 100%|██████████| 36/36 [00:30<00:00,  1.20it/s]\n",
      "Epoch 62/200: 100%|██████████| 4/4 [00:02<00:00,  1.59it/s]\n"
     ]
    },
    {
     "name": "stdout",
     "output_type": "stream",
     "text": [
      "Epoch [62/200] | Train Loss: 0.0100 | Val Loss: 0.0109 | Train_PSNR: 23.18 | Val_PSNR: 22.79 | Train_SSIM: 0.6728 | Val_SSIM: 0.8078\n"
     ]
    },
    {
     "name": "stderr",
     "output_type": "stream",
     "text": [
      "Epoch 63/200: 100%|██████████| 36/36 [00:29<00:00,  1.21it/s]\n",
      "Epoch 63/200: 100%|██████████| 4/4 [00:02<00:00,  1.61it/s]\n"
     ]
    },
    {
     "name": "stdout",
     "output_type": "stream",
     "text": [
      "Epoch [63/200] | Train Loss: 0.0097 | Val Loss: 0.0101 | Train_PSNR: 23.32 | Val_PSNR: 23.12 | Train_SSIM: 0.6764 | Val_SSIM: 0.8043\n",
      "Model Saved (Best PSNR)\n"
     ]
    },
    {
     "name": "stderr",
     "output_type": "stream",
     "text": [
      "Epoch 64/200: 100%|██████████| 36/36 [00:30<00:00,  1.18it/s]\n",
      "Epoch 64/200: 100%|██████████| 4/4 [00:02<00:00,  1.55it/s]\n"
     ]
    },
    {
     "name": "stdout",
     "output_type": "stream",
     "text": [
      "Epoch [64/200] | Train Loss: 0.0094 | Val Loss: 0.0091 | Train_PSNR: 23.46 | Val_PSNR: 23.57 | Train_SSIM: 0.6803 | Val_SSIM: 0.8222\n",
      "Model Saved (Best PSNR)\n",
      "Model Saved (Best SSIM)\n"
     ]
    },
    {
     "name": "stderr",
     "output_type": "stream",
     "text": [
      "Epoch 65/200: 100%|██████████| 36/36 [00:30<00:00,  1.20it/s]\n",
      "Epoch 65/200: 100%|██████████| 4/4 [00:02<00:00,  1.63it/s]\n"
     ]
    },
    {
     "name": "stdout",
     "output_type": "stream",
     "text": [
      "Epoch [65/200] | Train Loss: 0.0090 | Val Loss: 0.0094 | Train_PSNR: 23.62 | Val_PSNR: 23.44 | Train_SSIM: 0.6846 | Val_SSIM: 0.8188\n"
     ]
    },
    {
     "name": "stderr",
     "output_type": "stream",
     "text": [
      "Epoch 66/200: 100%|██████████| 36/36 [00:29<00:00,  1.21it/s]\n",
      "Epoch 66/200: 100%|██████████| 4/4 [00:02<00:00,  1.56it/s]\n"
     ]
    },
    {
     "name": "stdout",
     "output_type": "stream",
     "text": [
      "Epoch [66/200] | Train Loss: 0.0088 | Val Loss: 0.0095 | Train_PSNR: 23.74 | Val_PSNR: 23.38 | Train_SSIM: 0.6876 | Val_SSIM: 0.8167\n"
     ]
    },
    {
     "name": "stderr",
     "output_type": "stream",
     "text": [
      "Epoch 67/200: 100%|██████████| 36/36 [00:29<00:00,  1.20it/s]\n",
      "Epoch 67/200: 100%|██████████| 4/4 [00:02<00:00,  1.59it/s]\n"
     ]
    },
    {
     "name": "stdout",
     "output_type": "stream",
     "text": [
      "Epoch [67/200] | Train Loss: 0.0085 | Val Loss: 0.0082 | Train_PSNR: 23.86 | Val_PSNR: 24.05 | Train_SSIM: 0.6916 | Val_SSIM: 0.8304\n",
      "Model Saved (Best PSNR)\n",
      "Model Saved (Best SSIM)\n"
     ]
    },
    {
     "name": "stderr",
     "output_type": "stream",
     "text": [
      "Epoch 68/200: 100%|██████████| 36/36 [00:29<00:00,  1.20it/s]\n",
      "Epoch 68/200: 100%|██████████| 4/4 [00:02<00:00,  1.58it/s]\n"
     ]
    },
    {
     "name": "stdout",
     "output_type": "stream",
     "text": [
      "Epoch [68/200] | Train Loss: 0.0083 | Val Loss: 0.0086 | Train_PSNR: 23.97 | Val_PSNR: 23.83 | Train_SSIM: 0.6946 | Val_SSIM: 0.8276\n"
     ]
    },
    {
     "name": "stderr",
     "output_type": "stream",
     "text": [
      "Epoch 69/200: 100%|██████████| 36/36 [00:30<00:00,  1.19it/s]\n",
      "Epoch 69/200: 100%|██████████| 4/4 [00:02<00:00,  1.57it/s]\n"
     ]
    },
    {
     "name": "stdout",
     "output_type": "stream",
     "text": [
      "Epoch [69/200] | Train Loss: 0.0081 | Val Loss: 0.0078 | Train_PSNR: 24.11 | Val_PSNR: 24.26 | Train_SSIM: 0.6986 | Val_SSIM: 0.8350\n",
      "Model Saved (Best PSNR)\n",
      "Model Saved (Best SSIM)\n"
     ]
    },
    {
     "name": "stderr",
     "output_type": "stream",
     "text": [
      "Epoch 70/200: 100%|██████████| 36/36 [00:30<00:00,  1.20it/s]\n",
      "Epoch 70/200: 100%|██████████| 4/4 [00:02<00:00,  1.57it/s]\n"
     ]
    },
    {
     "name": "stdout",
     "output_type": "stream",
     "text": [
      "Epoch [70/200] | Train Loss: 0.0079 | Val Loss: 0.0081 | Train_PSNR: 24.18 | Val_PSNR: 24.09 | Train_SSIM: 0.7015 | Val_SSIM: 0.8282\n"
     ]
    },
    {
     "name": "stderr",
     "output_type": "stream",
     "text": [
      "Epoch 71/200: 100%|██████████| 36/36 [00:29<00:00,  1.20it/s]\n",
      "Epoch 71/200: 100%|██████████| 4/4 [00:02<00:00,  1.58it/s]\n"
     ]
    },
    {
     "name": "stdout",
     "output_type": "stream",
     "text": [
      "Epoch [71/200] | Train Loss: 0.0077 | Val Loss: 0.0071 | Train_PSNR: 24.29 | Val_PSNR: 24.68 | Train_SSIM: 0.7048 | Val_SSIM: 0.8349\n",
      "Model Saved (Best PSNR)\n"
     ]
    },
    {
     "name": "stderr",
     "output_type": "stream",
     "text": [
      "Epoch 72/200: 100%|██████████| 36/36 [00:29<00:00,  1.20it/s]\n",
      "Epoch 72/200: 100%|██████████| 4/4 [00:02<00:00,  1.61it/s]\n"
     ]
    },
    {
     "name": "stdout",
     "output_type": "stream",
     "text": [
      "Epoch [72/200] | Train Loss: 0.0075 | Val Loss: 0.0069 | Train_PSNR: 24.41 | Val_PSNR: 24.78 | Train_SSIM: 0.7082 | Val_SSIM: 0.8477\n",
      "Model Saved (Best PSNR)\n",
      "Model Saved (Best SSIM)\n"
     ]
    },
    {
     "name": "stderr",
     "output_type": "stream",
     "text": [
      "Epoch 73/200: 100%|██████████| 36/36 [00:29<00:00,  1.20it/s]\n",
      "Epoch 73/200: 100%|██████████| 4/4 [00:02<00:00,  1.58it/s]\n"
     ]
    },
    {
     "name": "stdout",
     "output_type": "stream",
     "text": [
      "Epoch [73/200] | Train Loss: 0.0074 | Val Loss: 0.0067 | Train_PSNR: 24.51 | Val_PSNR: 24.92 | Train_SSIM: 0.7114 | Val_SSIM: 0.8464\n",
      "Model Saved (Best PSNR)\n"
     ]
    },
    {
     "name": "stderr",
     "output_type": "stream",
     "text": [
      "Epoch 74/200: 100%|██████████| 36/36 [00:29<00:00,  1.20it/s]\n",
      "Epoch 74/200: 100%|██████████| 4/4 [00:02<00:00,  1.43it/s]\n"
     ]
    },
    {
     "name": "stdout",
     "output_type": "stream",
     "text": [
      "Epoch [74/200] | Train Loss: 0.0072 | Val Loss: 0.0071 | Train_PSNR: 24.60 | Val_PSNR: 24.69 | Train_SSIM: 0.7141 | Val_SSIM: 0.8399\n"
     ]
    },
    {
     "name": "stderr",
     "output_type": "stream",
     "text": [
      "Epoch 75/200: 100%|██████████| 36/36 [00:29<00:00,  1.21it/s]\n",
      "Epoch 75/200: 100%|██████████| 4/4 [00:02<00:00,  1.62it/s]\n"
     ]
    },
    {
     "name": "stdout",
     "output_type": "stream",
     "text": [
      "Epoch [75/200] | Train Loss: 0.0070 | Val Loss: 0.0068 | Train_PSNR: 24.70 | Val_PSNR: 24.82 | Train_SSIM: 0.7182 | Val_SSIM: 0.8415\n"
     ]
    },
    {
     "name": "stderr",
     "output_type": "stream",
     "text": [
      "Epoch 76/200: 100%|██████████| 36/36 [00:29<00:00,  1.20it/s]\n",
      "Epoch 76/200: 100%|██████████| 4/4 [00:02<00:00,  1.61it/s]\n"
     ]
    },
    {
     "name": "stdout",
     "output_type": "stream",
     "text": [
      "Epoch [76/200] | Train Loss: 0.0069 | Val Loss: 0.0067 | Train_PSNR: 24.75 | Val_PSNR: 24.90 | Train_SSIM: 0.7194 | Val_SSIM: 0.8461\n"
     ]
    },
    {
     "name": "stderr",
     "output_type": "stream",
     "text": [
      "Epoch 77/200: 100%|██████████| 36/36 [00:29<00:00,  1.21it/s]\n",
      "Epoch 77/200: 100%|██████████| 4/4 [00:02<00:00,  1.63it/s]\n"
     ]
    },
    {
     "name": "stdout",
     "output_type": "stream",
     "text": [
      "Epoch [77/200] | Train Loss: 0.0068 | Val Loss: 0.0058 | Train_PSNR: 24.87 | Val_PSNR: 25.53 | Train_SSIM: 0.7235 | Val_SSIM: 0.8552\n",
      "Model Saved (Best PSNR)\n",
      "Model Saved (Best SSIM)\n"
     ]
    },
    {
     "name": "stderr",
     "output_type": "stream",
     "text": [
      "Epoch 78/200: 100%|██████████| 36/36 [00:30<00:00,  1.20it/s]\n",
      "Epoch 78/200: 100%|██████████| 4/4 [00:02<00:00,  1.57it/s]\n"
     ]
    },
    {
     "name": "stdout",
     "output_type": "stream",
     "text": [
      "Epoch [78/200] | Train Loss: 0.0065 | Val Loss: 0.0061 | Train_PSNR: 25.01 | Val_PSNR: 25.32 | Train_SSIM: 0.7284 | Val_SSIM: 0.8540\n"
     ]
    },
    {
     "name": "stderr",
     "output_type": "stream",
     "text": [
      "Epoch 79/200: 100%|██████████| 36/36 [00:29<00:00,  1.20it/s]\n",
      "Epoch 79/200: 100%|██████████| 4/4 [00:02<00:00,  1.57it/s]\n"
     ]
    },
    {
     "name": "stdout",
     "output_type": "stream",
     "text": [
      "Epoch [79/200] | Train Loss: 0.0064 | Val Loss: 0.0055 | Train_PSNR: 25.11 | Val_PSNR: 25.76 | Train_SSIM: 0.7317 | Val_SSIM: 0.8624\n",
      "Model Saved (Best PSNR)\n",
      "Model Saved (Best SSIM)\n"
     ]
    },
    {
     "name": "stderr",
     "output_type": "stream",
     "text": [
      "Epoch 80/200: 100%|██████████| 36/36 [00:30<00:00,  1.18it/s]\n",
      "Epoch 80/200: 100%|██████████| 4/4 [00:02<00:00,  1.61it/s]\n"
     ]
    },
    {
     "name": "stdout",
     "output_type": "stream",
     "text": [
      "Epoch [80/200] | Train Loss: 0.0063 | Val Loss: 0.0056 | Train_PSNR: 25.18 | Val_PSNR: 25.72 | Train_SSIM: 0.7340 | Val_SSIM: 0.8628\n",
      "Model Saved (Best SSIM)\n"
     ]
    },
    {
     "name": "stderr",
     "output_type": "stream",
     "text": [
      "Epoch 81/200: 100%|██████████| 36/36 [00:29<00:00,  1.20it/s]\n",
      "Epoch 81/200: 100%|██████████| 4/4 [00:02<00:00,  1.61it/s]\n"
     ]
    },
    {
     "name": "stdout",
     "output_type": "stream",
     "text": [
      "Epoch [81/200] | Train Loss: 0.0063 | Val Loss: 0.0057 | Train_PSNR: 25.21 | Val_PSNR: 25.65 | Train_SSIM: 0.7357 | Val_SSIM: 0.8591\n"
     ]
    },
    {
     "name": "stderr",
     "output_type": "stream",
     "text": [
      "Epoch 82/200: 100%|██████████| 36/36 [00:29<00:00,  1.20it/s]\n",
      "Epoch 82/200: 100%|██████████| 4/4 [00:02<00:00,  1.54it/s]\n"
     ]
    },
    {
     "name": "stdout",
     "output_type": "stream",
     "text": [
      "Epoch [82/200] | Train Loss: 0.0061 | Val Loss: 0.0051 | Train_PSNR: 25.30 | Val_PSNR: 26.12 | Train_SSIM: 0.7389 | Val_SSIM: 0.8667\n",
      "Model Saved (Best PSNR)\n",
      "Model Saved (Best SSIM)\n"
     ]
    },
    {
     "name": "stderr",
     "output_type": "stream",
     "text": [
      "Epoch 83/200: 100%|██████████| 36/36 [00:29<00:00,  1.20it/s]\n",
      "Epoch 83/200: 100%|██████████| 4/4 [00:02<00:00,  1.61it/s]\n"
     ]
    },
    {
     "name": "stdout",
     "output_type": "stream",
     "text": [
      "Epoch [83/200] | Train Loss: 0.0060 | Val Loss: 0.0058 | Train_PSNR: 25.40 | Val_PSNR: 25.52 | Train_SSIM: 0.7421 | Val_SSIM: 0.8613\n"
     ]
    },
    {
     "name": "stderr",
     "output_type": "stream",
     "text": [
      "Epoch 84/200: 100%|██████████| 36/36 [00:29<00:00,  1.20it/s]\n",
      "Epoch 84/200: 100%|██████████| 4/4 [00:02<00:00,  1.61it/s]\n"
     ]
    },
    {
     "name": "stdout",
     "output_type": "stream",
     "text": [
      "Epoch [84/200] | Train Loss: 0.0059 | Val Loss: 0.0056 | Train_PSNR: 25.49 | Val_PSNR: 25.69 | Train_SSIM: 0.7452 | Val_SSIM: 0.8661\n"
     ]
    },
    {
     "name": "stderr",
     "output_type": "stream",
     "text": [
      "Epoch 85/200: 100%|██████████| 36/36 [00:30<00:00,  1.19it/s]\n",
      "Epoch 85/200: 100%|██████████| 4/4 [00:02<00:00,  1.58it/s]\n"
     ]
    },
    {
     "name": "stdout",
     "output_type": "stream",
     "text": [
      "Epoch [85/200] | Train Loss: 0.0058 | Val Loss: 0.0054 | Train_PSNR: 25.56 | Val_PSNR: 25.85 | Train_SSIM: 0.7474 | Val_SSIM: 0.8677\n",
      "Model Saved (Best SSIM)\n"
     ]
    },
    {
     "name": "stderr",
     "output_type": "stream",
     "text": [
      "Epoch 86/200: 100%|██████████| 36/36 [00:29<00:00,  1.20it/s]\n",
      "Epoch 86/200: 100%|██████████| 4/4 [00:02<00:00,  1.62it/s]\n"
     ]
    },
    {
     "name": "stdout",
     "output_type": "stream",
     "text": [
      "Epoch [86/200] | Train Loss: 0.0057 | Val Loss: 0.0051 | Train_PSNR: 25.60 | Val_PSNR: 26.13 | Train_SSIM: 0.7500 | Val_SSIM: 0.8701\n",
      "Model Saved (Best PSNR)\n",
      "Model Saved (Best SSIM)\n"
     ]
    },
    {
     "name": "stderr",
     "output_type": "stream",
     "text": [
      "Epoch 87/200: 100%|██████████| 36/36 [00:29<00:00,  1.21it/s]\n",
      "Epoch 87/200: 100%|██████████| 4/4 [00:02<00:00,  1.59it/s]\n"
     ]
    },
    {
     "name": "stdout",
     "output_type": "stream",
     "text": [
      "Epoch [87/200] | Train Loss: 0.0056 | Val Loss: 0.0048 | Train_PSNR: 25.69 | Val_PSNR: 26.37 | Train_SSIM: 0.7524 | Val_SSIM: 0.8734\n",
      "Model Saved (Best PSNR)\n",
      "Model Saved (Best SSIM)\n"
     ]
    },
    {
     "name": "stderr",
     "output_type": "stream",
     "text": [
      "Epoch 88/200: 100%|██████████| 36/36 [00:30<00:00,  1.20it/s]\n",
      "Epoch 88/200: 100%|██████████| 4/4 [00:02<00:00,  1.62it/s]\n"
     ]
    },
    {
     "name": "stdout",
     "output_type": "stream",
     "text": [
      "Epoch [88/200] | Train Loss: 0.0055 | Val Loss: 0.0045 | Train_PSNR: 25.79 | Val_PSNR: 26.62 | Train_SSIM: 0.7551 | Val_SSIM: 0.8760\n",
      "Model Saved (Best PSNR)\n",
      "Model Saved (Best SSIM)\n"
     ]
    },
    {
     "name": "stderr",
     "output_type": "stream",
     "text": [
      "Epoch 89/200: 100%|██████████| 36/36 [00:29<00:00,  1.20it/s]\n",
      "Epoch 89/200: 100%|██████████| 4/4 [00:02<00:00,  1.56it/s]\n"
     ]
    },
    {
     "name": "stdout",
     "output_type": "stream",
     "text": [
      "Epoch [89/200] | Train Loss: 0.0054 | Val Loss: 0.0048 | Train_PSNR: 25.86 | Val_PSNR: 26.38 | Train_SSIM: 0.7583 | Val_SSIM: 0.8784\n",
      "Model Saved (Best SSIM)\n"
     ]
    },
    {
     "name": "stderr",
     "output_type": "stream",
     "text": [
      "Epoch 90/200: 100%|██████████| 36/36 [00:30<00:00,  1.19it/s]\n",
      "Epoch 90/200: 100%|██████████| 4/4 [00:02<00:00,  1.61it/s]\n"
     ]
    },
    {
     "name": "stdout",
     "output_type": "stream",
     "text": [
      "Epoch [90/200] | Train Loss: 0.0053 | Val Loss: 0.0048 | Train_PSNR: 25.91 | Val_PSNR: 26.37 | Train_SSIM: 0.7607 | Val_SSIM: 0.8774\n"
     ]
    },
    {
     "name": "stderr",
     "output_type": "stream",
     "text": [
      "Epoch 91/200: 100%|██████████| 36/36 [00:29<00:00,  1.20it/s]\n",
      "Epoch 91/200: 100%|██████████| 4/4 [00:02<00:00,  1.59it/s]\n"
     ]
    },
    {
     "name": "stdout",
     "output_type": "stream",
     "text": [
      "Epoch [91/200] | Train Loss: 0.0052 | Val Loss: 0.0048 | Train_PSNR: 25.99 | Val_PSNR: 26.33 | Train_SSIM: 0.7632 | Val_SSIM: 0.8787\n",
      "Model Saved (Best SSIM)\n"
     ]
    },
    {
     "name": "stderr",
     "output_type": "stream",
     "text": [
      "Epoch 92/200: 100%|██████████| 36/36 [00:29<00:00,  1.20it/s]\n",
      "Epoch 92/200: 100%|██████████| 4/4 [00:02<00:00,  1.59it/s]\n"
     ]
    },
    {
     "name": "stdout",
     "output_type": "stream",
     "text": [
      "Epoch [92/200] | Train Loss: 0.0051 | Val Loss: 0.0044 | Train_PSNR: 26.07 | Val_PSNR: 26.80 | Train_SSIM: 0.7659 | Val_SSIM: 0.8811\n",
      "Model Saved (Best PSNR)\n",
      "Model Saved (Best SSIM)\n"
     ]
    },
    {
     "name": "stderr",
     "output_type": "stream",
     "text": [
      "Epoch 93/200: 100%|██████████| 36/36 [00:29<00:00,  1.20it/s]\n",
      "Epoch 93/200: 100%|██████████| 4/4 [00:02<00:00,  1.58it/s]\n"
     ]
    },
    {
     "name": "stdout",
     "output_type": "stream",
     "text": [
      "Epoch [93/200] | Train Loss: 0.0051 | Val Loss: 0.0043 | Train_PSNR: 26.10 | Val_PSNR: 26.81 | Train_SSIM: 0.7677 | Val_SSIM: 0.8819\n",
      "Model Saved (Best PSNR)\n",
      "Model Saved (Best SSIM)\n"
     ]
    },
    {
     "name": "stderr",
     "output_type": "stream",
     "text": [
      "Epoch 94/200: 100%|██████████| 36/36 [00:29<00:00,  1.20it/s]\n",
      "Epoch 94/200: 100%|██████████| 4/4 [00:02<00:00,  1.59it/s]\n"
     ]
    },
    {
     "name": "stdout",
     "output_type": "stream",
     "text": [
      "Epoch [94/200] | Train Loss: 0.0050 | Val Loss: 0.0041 | Train_PSNR: 26.15 | Val_PSNR: 27.01 | Train_SSIM: 0.7692 | Val_SSIM: 0.8862\n",
      "Model Saved (Best PSNR)\n",
      "Model Saved (Best SSIM)\n"
     ]
    },
    {
     "name": "stderr",
     "output_type": "stream",
     "text": [
      "Epoch 95/200: 100%|██████████| 36/36 [00:30<00:00,  1.19it/s]\n",
      "Epoch 95/200: 100%|██████████| 4/4 [00:02<00:00,  1.58it/s]\n"
     ]
    },
    {
     "name": "stdout",
     "output_type": "stream",
     "text": [
      "Epoch [95/200] | Train Loss: 0.0050 | Val Loss: 0.0046 | Train_PSNR: 26.21 | Val_PSNR: 26.54 | Train_SSIM: 0.7717 | Val_SSIM: 0.8784\n"
     ]
    },
    {
     "name": "stderr",
     "output_type": "stream",
     "text": [
      "Epoch 96/200: 100%|██████████| 36/36 [00:30<00:00,  1.20it/s]\n",
      "Epoch 96/200: 100%|██████████| 4/4 [00:02<00:00,  1.55it/s]\n"
     ]
    },
    {
     "name": "stdout",
     "output_type": "stream",
     "text": [
      "Epoch [96/200] | Train Loss: 0.0049 | Val Loss: 0.0038 | Train_PSNR: 26.28 | Val_PSNR: 27.42 | Train_SSIM: 0.7734 | Val_SSIM: 0.8888\n",
      "Model Saved (Best PSNR)\n",
      "Model Saved (Best SSIM)\n"
     ]
    },
    {
     "name": "stderr",
     "output_type": "stream",
     "text": [
      "Epoch 97/200: 100%|██████████| 36/36 [00:30<00:00,  1.19it/s]\n",
      "Epoch 97/200: 100%|██████████| 4/4 [00:02<00:00,  1.61it/s]\n"
     ]
    },
    {
     "name": "stdout",
     "output_type": "stream",
     "text": [
      "Epoch [97/200] | Train Loss: 0.0047 | Val Loss: 0.0042 | Train_PSNR: 26.40 | Val_PSNR: 27.00 | Train_SSIM: 0.7766 | Val_SSIM: 0.8869\n"
     ]
    },
    {
     "name": "stderr",
     "output_type": "stream",
     "text": [
      "Epoch 98/200: 100%|██████████| 36/36 [00:30<00:00,  1.19it/s]\n",
      "Epoch 98/200: 100%|██████████| 4/4 [00:02<00:00,  1.59it/s]\n"
     ]
    },
    {
     "name": "stdout",
     "output_type": "stream",
     "text": [
      "Epoch [98/200] | Train Loss: 0.0047 | Val Loss: 0.0042 | Train_PSNR: 26.42 | Val_PSNR: 27.02 | Train_SSIM: 0.7787 | Val_SSIM: 0.8889\n",
      "Model Saved (Best SSIM)\n"
     ]
    },
    {
     "name": "stderr",
     "output_type": "stream",
     "text": [
      "Epoch 99/200: 100%|██████████| 36/36 [00:29<00:00,  1.20it/s]\n",
      "Epoch 99/200: 100%|██████████| 4/4 [00:02<00:00,  1.54it/s]\n"
     ]
    },
    {
     "name": "stdout",
     "output_type": "stream",
     "text": [
      "Epoch [99/200] | Train Loss: 0.0047 | Val Loss: 0.0043 | Train_PSNR: 26.49 | Val_PSNR: 26.81 | Train_SSIM: 0.7813 | Val_SSIM: 0.8885\n"
     ]
    },
    {
     "name": "stderr",
     "output_type": "stream",
     "text": [
      "Epoch 100/200: 100%|██████████| 36/36 [00:29<00:00,  1.21it/s]\n",
      "Epoch 100/200: 100%|██████████| 4/4 [00:02<00:00,  1.40it/s]\n"
     ]
    },
    {
     "name": "stdout",
     "output_type": "stream",
     "text": [
      "Epoch [100/200] | Train Loss: 0.0047 | Val Loss: 0.0042 | Train_PSNR: 26.41 | Val_PSNR: 26.94 | Train_SSIM: 0.7799 | Val_SSIM: 0.8855\n"
     ]
    },
    {
     "name": "stderr",
     "output_type": "stream",
     "text": [
      "Epoch 101/200: 100%|██████████| 36/36 [00:30<00:00,  1.19it/s]\n",
      "Epoch 101/200: 100%|██████████| 4/4 [00:02<00:00,  1.54it/s]\n"
     ]
    },
    {
     "name": "stdout",
     "output_type": "stream",
     "text": [
      "Epoch [101/200] | Train Loss: 0.0045 | Val Loss: 0.0039 | Train_PSNR: 26.59 | Val_PSNR: 27.36 | Train_SSIM: 0.7843 | Val_SSIM: 0.8908\n",
      "Model Saved (Best SSIM)\n"
     ]
    },
    {
     "name": "stderr",
     "output_type": "stream",
     "text": [
      "Epoch 102/200: 100%|██████████| 36/36 [00:30<00:00,  1.20it/s]\n",
      "Epoch 102/200: 100%|██████████| 4/4 [00:02<00:00,  1.60it/s]\n"
     ]
    },
    {
     "name": "stdout",
     "output_type": "stream",
     "text": [
      "Epoch [102/200] | Train Loss: 0.0045 | Val Loss: 0.0037 | Train_PSNR: 26.66 | Val_PSNR: 27.55 | Train_SSIM: 0.7870 | Val_SSIM: 0.8929\n",
      "Model Saved (Best PSNR)\n",
      "Model Saved (Best SSIM)\n"
     ]
    },
    {
     "name": "stderr",
     "output_type": "stream",
     "text": [
      "Epoch 103/200: 100%|██████████| 36/36 [00:29<00:00,  1.21it/s]\n",
      "Epoch 103/200: 100%|██████████| 4/4 [00:02<00:00,  1.57it/s]\n"
     ]
    },
    {
     "name": "stdout",
     "output_type": "stream",
     "text": [
      "Epoch [103/200] | Train Loss: 0.0044 | Val Loss: 0.0033 | Train_PSNR: 26.73 | Val_PSNR: 28.00 | Train_SSIM: 0.7894 | Val_SSIM: 0.8971\n",
      "Model Saved (Best PSNR)\n",
      "Model Saved (Best SSIM)\n"
     ]
    },
    {
     "name": "stderr",
     "output_type": "stream",
     "text": [
      "Epoch 104/200: 100%|██████████| 36/36 [00:30<00:00,  1.20it/s]\n",
      "Epoch 104/200: 100%|██████████| 4/4 [00:02<00:00,  1.57it/s]\n"
     ]
    },
    {
     "name": "stdout",
     "output_type": "stream",
     "text": [
      "Epoch [104/200] | Train Loss: 0.0044 | Val Loss: 0.0036 | Train_PSNR: 26.78 | Val_PSNR: 27.67 | Train_SSIM: 0.7910 | Val_SSIM: 0.8963\n"
     ]
    },
    {
     "name": "stderr",
     "output_type": "stream",
     "text": [
      "Epoch 105/200: 100%|██████████| 36/36 [00:30<00:00,  1.20it/s]\n",
      "Epoch 105/200: 100%|██████████| 4/4 [00:02<00:00,  1.59it/s]\n"
     ]
    },
    {
     "name": "stdout",
     "output_type": "stream",
     "text": [
      "Epoch [105/200] | Train Loss: 0.0043 | Val Loss: 0.0046 | Train_PSNR: 26.83 | Val_PSNR: 26.51 | Train_SSIM: 0.7925 | Val_SSIM: 0.8881\n"
     ]
    },
    {
     "name": "stderr",
     "output_type": "stream",
     "text": [
      "Epoch 106/200: 100%|██████████| 36/36 [00:30<00:00,  1.20it/s]\n",
      "Epoch 106/200: 100%|██████████| 4/4 [00:02<00:00,  1.62it/s]\n"
     ]
    },
    {
     "name": "stdout",
     "output_type": "stream",
     "text": [
      "Epoch [106/200] | Train Loss: 0.0043 | Val Loss: 0.0032 | Train_PSNR: 26.84 | Val_PSNR: 28.17 | Train_SSIM: 0.7938 | Val_SSIM: 0.8989\n",
      "Model Saved (Best PSNR)\n",
      "Model Saved (Best SSIM)\n"
     ]
    },
    {
     "name": "stderr",
     "output_type": "stream",
     "text": [
      "Epoch 107/200: 100%|██████████| 36/36 [00:29<00:00,  1.21it/s]\n",
      "Epoch 107/200: 100%|██████████| 4/4 [00:02<00:00,  1.59it/s]\n"
     ]
    },
    {
     "name": "stdout",
     "output_type": "stream",
     "text": [
      "Epoch [107/200] | Train Loss: 0.0042 | Val Loss: 0.0031 | Train_PSNR: 26.91 | Val_PSNR: 28.26 | Train_SSIM: 0.7961 | Val_SSIM: 0.9013\n",
      "Model Saved (Best PSNR)\n",
      "Model Saved (Best SSIM)\n"
     ]
    },
    {
     "name": "stderr",
     "output_type": "stream",
     "text": [
      "Epoch 108/200: 100%|██████████| 36/36 [00:30<00:00,  1.20it/s]\n",
      "Epoch 108/200: 100%|██████████| 4/4 [00:02<00:00,  1.62it/s]\n"
     ]
    },
    {
     "name": "stdout",
     "output_type": "stream",
     "text": [
      "Epoch [108/200] | Train Loss: 0.0041 | Val Loss: 0.0037 | Train_PSNR: 27.00 | Val_PSNR: 27.45 | Train_SSIM: 0.7982 | Val_SSIM: 0.8963\n"
     ]
    },
    {
     "name": "stderr",
     "output_type": "stream",
     "text": [
      "Epoch 109/200: 100%|██████████| 36/36 [00:29<00:00,  1.21it/s]\n",
      "Epoch 109/200: 100%|██████████| 4/4 [00:02<00:00,  1.61it/s]\n"
     ]
    },
    {
     "name": "stdout",
     "output_type": "stream",
     "text": [
      "Epoch [109/200] | Train Loss: 0.0042 | Val Loss: 0.0033 | Train_PSNR: 26.95 | Val_PSNR: 27.94 | Train_SSIM: 0.7977 | Val_SSIM: 0.8999\n"
     ]
    },
    {
     "name": "stderr",
     "output_type": "stream",
     "text": [
      "Epoch 110/200: 100%|██████████| 36/36 [00:29<00:00,  1.20it/s]\n",
      "Epoch 110/200: 100%|██████████| 4/4 [00:02<00:00,  1.62it/s]\n"
     ]
    },
    {
     "name": "stdout",
     "output_type": "stream",
     "text": [
      "Epoch [110/200] | Train Loss: 0.0041 | Val Loss: 0.0034 | Train_PSNR: 27.06 | Val_PSNR: 27.90 | Train_SSIM: 0.8003 | Val_SSIM: 0.8997\n"
     ]
    },
    {
     "name": "stderr",
     "output_type": "stream",
     "text": [
      "Epoch 111/200: 100%|██████████| 36/36 [00:30<00:00,  1.19it/s]\n",
      "Epoch 111/200: 100%|██████████| 4/4 [00:02<00:00,  1.59it/s]\n"
     ]
    },
    {
     "name": "stdout",
     "output_type": "stream",
     "text": [
      "Epoch [111/200] | Train Loss: 0.0040 | Val Loss: 0.0034 | Train_PSNR: 27.11 | Val_PSNR: 27.84 | Train_SSIM: 0.8027 | Val_SSIM: 0.9011\n"
     ]
    },
    {
     "name": "stderr",
     "output_type": "stream",
     "text": [
      "Epoch 112/200: 100%|██████████| 36/36 [00:29<00:00,  1.21it/s]\n",
      "Epoch 112/200: 100%|██████████| 4/4 [00:02<00:00,  1.61it/s]\n"
     ]
    },
    {
     "name": "stdout",
     "output_type": "stream",
     "text": [
      "Epoch [112/200] | Train Loss: 0.0040 | Val Loss: 0.0031 | Train_PSNR: 27.09 | Val_PSNR: 28.30 | Train_SSIM: 0.8029 | Val_SSIM: 0.9035\n",
      "Model Saved (Best PSNR)\n",
      "Model Saved (Best SSIM)\n"
     ]
    },
    {
     "name": "stderr",
     "output_type": "stream",
     "text": [
      "Epoch 113/200: 100%|██████████| 36/36 [00:29<00:00,  1.20it/s]\n",
      "Epoch 113/200: 100%|██████████| 4/4 [00:02<00:00,  1.59it/s]\n"
     ]
    },
    {
     "name": "stdout",
     "output_type": "stream",
     "text": [
      "Epoch [113/200] | Train Loss: 0.0040 | Val Loss: 0.0033 | Train_PSNR: 27.19 | Val_PSNR: 27.96 | Train_SSIM: 0.8056 | Val_SSIM: 0.9006\n"
     ]
    },
    {
     "name": "stderr",
     "output_type": "stream",
     "text": [
      "Epoch 114/200: 100%|██████████| 36/36 [00:30<00:00,  1.20it/s]\n",
      "Epoch 114/200: 100%|██████████| 4/4 [00:02<00:00,  1.60it/s]\n"
     ]
    },
    {
     "name": "stdout",
     "output_type": "stream",
     "text": [
      "Epoch [114/200] | Train Loss: 0.0039 | Val Loss: 0.0031 | Train_PSNR: 27.24 | Val_PSNR: 28.21 | Train_SSIM: 0.8072 | Val_SSIM: 0.9039\n",
      "Model Saved (Best SSIM)\n"
     ]
    },
    {
     "name": "stderr",
     "output_type": "stream",
     "text": [
      "Epoch 115/200: 100%|██████████| 36/36 [00:29<00:00,  1.21it/s]\n",
      "Epoch 115/200: 100%|██████████| 4/4 [00:02<00:00,  1.56it/s]\n"
     ]
    },
    {
     "name": "stdout",
     "output_type": "stream",
     "text": [
      "Epoch [115/200] | Train Loss: 0.0038 | Val Loss: 0.0031 | Train_PSNR: 27.33 | Val_PSNR: 28.31 | Train_SSIM: 0.8098 | Val_SSIM: 0.9068\n",
      "Model Saved (Best PSNR)\n",
      "Model Saved (Best SSIM)\n"
     ]
    },
    {
     "name": "stderr",
     "output_type": "stream",
     "text": [
      "Epoch 116/200: 100%|██████████| 36/36 [00:30<00:00,  1.18it/s]\n",
      "Epoch 116/200: 100%|██████████| 4/4 [00:02<00:00,  1.58it/s]\n"
     ]
    },
    {
     "name": "stdout",
     "output_type": "stream",
     "text": [
      "Epoch [116/200] | Train Loss: 0.0038 | Val Loss: 0.0034 | Train_PSNR: 27.34 | Val_PSNR: 27.85 | Train_SSIM: 0.8109 | Val_SSIM: 0.9011\n"
     ]
    },
    {
     "name": "stderr",
     "output_type": "stream",
     "text": [
      "Epoch 117/200: 100%|██████████| 36/36 [00:29<00:00,  1.21it/s]\n",
      "Epoch 117/200: 100%|██████████| 4/4 [00:02<00:00,  1.59it/s]\n"
     ]
    },
    {
     "name": "stdout",
     "output_type": "stream",
     "text": [
      "Epoch [117/200] | Train Loss: 0.0038 | Val Loss: 0.0030 | Train_PSNR: 27.40 | Val_PSNR: 28.44 | Train_SSIM: 0.8124 | Val_SSIM: 0.9067\n",
      "Model Saved (Best PSNR)\n"
     ]
    },
    {
     "name": "stderr",
     "output_type": "stream",
     "text": [
      "Epoch 118/200: 100%|██████████| 36/36 [00:29<00:00,  1.20it/s]\n",
      "Epoch 118/200: 100%|██████████| 4/4 [00:02<00:00,  1.62it/s]\n"
     ]
    },
    {
     "name": "stdout",
     "output_type": "stream",
     "text": [
      "Epoch [118/200] | Train Loss: 0.0037 | Val Loss: 0.0030 | Train_PSNR: 27.46 | Val_PSNR: 28.43 | Train_SSIM: 0.8143 | Val_SSIM: 0.9078\n",
      "Model Saved (Best SSIM)\n"
     ]
    },
    {
     "name": "stderr",
     "output_type": "stream",
     "text": [
      "Epoch 119/200: 100%|██████████| 36/36 [00:30<00:00,  1.20it/s]\n",
      "Epoch 119/200: 100%|██████████| 4/4 [00:02<00:00,  1.59it/s]\n"
     ]
    },
    {
     "name": "stdout",
     "output_type": "stream",
     "text": [
      "Epoch [119/200] | Train Loss: 0.0037 | Val Loss: 0.0031 | Train_PSNR: 27.53 | Val_PSNR: 28.25 | Train_SSIM: 0.8160 | Val_SSIM: 0.9057\n"
     ]
    },
    {
     "name": "stderr",
     "output_type": "stream",
     "text": [
      "Epoch 120/200: 100%|██████████| 36/36 [00:29<00:00,  1.20it/s]\n",
      "Epoch 120/200: 100%|██████████| 4/4 [00:02<00:00,  1.60it/s]\n"
     ]
    },
    {
     "name": "stdout",
     "output_type": "stream",
     "text": [
      "Epoch [120/200] | Train Loss: 0.0036 | Val Loss: 0.0031 | Train_PSNR: 27.56 | Val_PSNR: 28.31 | Train_SSIM: 0.8174 | Val_SSIM: 0.9065\n"
     ]
    },
    {
     "name": "stderr",
     "output_type": "stream",
     "text": [
      "Epoch 121/200: 100%|██████████| 36/36 [00:29<00:00,  1.20it/s]\n",
      "Epoch 121/200: 100%|██████████| 4/4 [00:02<00:00,  1.40it/s]\n"
     ]
    },
    {
     "name": "stdout",
     "output_type": "stream",
     "text": [
      "Epoch [121/200] | Train Loss: 0.0036 | Val Loss: 0.0031 | Train_PSNR: 27.58 | Val_PSNR: 28.20 | Train_SSIM: 0.8185 | Val_SSIM: 0.9067\n"
     ]
    },
    {
     "name": "stderr",
     "output_type": "stream",
     "text": [
      "Epoch 122/200: 100%|██████████| 36/36 [00:30<00:00,  1.20it/s]\n",
      "Epoch 122/200: 100%|██████████| 4/4 [00:02<00:00,  1.58it/s]\n"
     ]
    },
    {
     "name": "stdout",
     "output_type": "stream",
     "text": [
      "Epoch [122/200] | Train Loss: 0.0036 | Val Loss: 0.0029 | Train_PSNR: 27.64 | Val_PSNR: 28.54 | Train_SSIM: 0.8203 | Val_SSIM: 0.9090\n",
      "Model Saved (Best PSNR)\n",
      "Model Saved (Best SSIM)\n"
     ]
    },
    {
     "name": "stderr",
     "output_type": "stream",
     "text": [
      "Epoch 123/200: 100%|██████████| 36/36 [00:29<00:00,  1.20it/s]\n",
      "Epoch 123/200: 100%|██████████| 4/4 [00:02<00:00,  1.59it/s]\n"
     ]
    },
    {
     "name": "stdout",
     "output_type": "stream",
     "text": [
      "Epoch [123/200] | Train Loss: 0.0035 | Val Loss: 0.0026 | Train_PSNR: 27.68 | Val_PSNR: 29.05 | Train_SSIM: 0.8218 | Val_SSIM: 0.9126\n",
      "Model Saved (Best PSNR)\n",
      "Model Saved (Best SSIM)\n"
     ]
    },
    {
     "name": "stderr",
     "output_type": "stream",
     "text": [
      "Epoch 124/200: 100%|██████████| 36/36 [00:29<00:00,  1.20it/s]\n",
      "Epoch 124/200: 100%|██████████| 4/4 [00:02<00:00,  1.54it/s]\n"
     ]
    },
    {
     "name": "stdout",
     "output_type": "stream",
     "text": [
      "Epoch [124/200] | Train Loss: 0.0035 | Val Loss: 0.0028 | Train_PSNR: 27.74 | Val_PSNR: 28.75 | Train_SSIM: 0.8233 | Val_SSIM: 0.9111\n"
     ]
    },
    {
     "name": "stderr",
     "output_type": "stream",
     "text": [
      "Epoch 125/200: 100%|██████████| 36/36 [00:29<00:00,  1.20it/s]\n",
      "Epoch 125/200: 100%|██████████| 4/4 [00:02<00:00,  1.58it/s]\n"
     ]
    },
    {
     "name": "stdout",
     "output_type": "stream",
     "text": [
      "Epoch [125/200] | Train Loss: 0.0034 | Val Loss: 0.0027 | Train_PSNR: 27.80 | Val_PSNR: 28.86 | Train_SSIM: 0.8251 | Val_SSIM: 0.9117\n"
     ]
    },
    {
     "name": "stderr",
     "output_type": "stream",
     "text": [
      "Epoch 126/200: 100%|██████████| 36/36 [00:29<00:00,  1.21it/s]\n",
      "Epoch 126/200: 100%|██████████| 4/4 [00:02<00:00,  1.56it/s]\n"
     ]
    },
    {
     "name": "stdout",
     "output_type": "stream",
     "text": [
      "Epoch [126/200] | Train Loss: 0.0034 | Val Loss: 0.0029 | Train_PSNR: 27.80 | Val_PSNR: 28.51 | Train_SSIM: 0.8255 | Val_SSIM: 0.9094\n"
     ]
    },
    {
     "name": "stderr",
     "output_type": "stream",
     "text": [
      "Epoch 127/200: 100%|██████████| 36/36 [00:30<00:00,  1.18it/s]\n",
      "Epoch 127/200: 100%|██████████| 4/4 [00:02<00:00,  1.57it/s]\n"
     ]
    },
    {
     "name": "stdout",
     "output_type": "stream",
     "text": [
      "Epoch [127/200] | Train Loss: 0.0034 | Val Loss: 0.0025 | Train_PSNR: 27.87 | Val_PSNR: 29.20 | Train_SSIM: 0.8279 | Val_SSIM: 0.9150\n",
      "Model Saved (Best PSNR)\n",
      "Model Saved (Best SSIM)\n"
     ]
    },
    {
     "name": "stderr",
     "output_type": "stream",
     "text": [
      "Epoch 128/200: 100%|██████████| 36/36 [00:30<00:00,  1.20it/s]\n",
      "Epoch 128/200: 100%|██████████| 4/4 [00:02<00:00,  1.53it/s]\n"
     ]
    },
    {
     "name": "stdout",
     "output_type": "stream",
     "text": [
      "Epoch [128/200] | Train Loss: 0.0034 | Val Loss: 0.0025 | Train_PSNR: 27.90 | Val_PSNR: 29.20 | Train_SSIM: 0.8286 | Val_SSIM: 0.9161\n",
      "Model Saved (Best SSIM)\n"
     ]
    },
    {
     "name": "stderr",
     "output_type": "stream",
     "text": [
      "Epoch 129/200: 100%|██████████| 36/36 [00:29<00:00,  1.21it/s]\n",
      "Epoch 129/200: 100%|██████████| 4/4 [00:02<00:00,  1.60it/s]\n"
     ]
    },
    {
     "name": "stdout",
     "output_type": "stream",
     "text": [
      "Epoch [129/200] | Train Loss: 0.0034 | Val Loss: 0.0026 | Train_PSNR: 27.92 | Val_PSNR: 29.16 | Train_SSIM: 0.8297 | Val_SSIM: 0.9162\n",
      "Model Saved (Best SSIM)\n"
     ]
    },
    {
     "name": "stderr",
     "output_type": "stream",
     "text": [
      "Epoch 130/200: 100%|██████████| 36/36 [00:29<00:00,  1.20it/s]\n",
      "Epoch 130/200: 100%|██████████| 4/4 [00:02<00:00,  1.63it/s]\n"
     ]
    },
    {
     "name": "stdout",
     "output_type": "stream",
     "text": [
      "Epoch [130/200] | Train Loss: 0.0033 | Val Loss: 0.0023 | Train_PSNR: 27.97 | Val_PSNR: 29.70 | Train_SSIM: 0.8313 | Val_SSIM: 0.9188\n",
      "Model Saved (Best PSNR)\n",
      "Model Saved (Best SSIM)\n"
     ]
    },
    {
     "name": "stderr",
     "output_type": "stream",
     "text": [
      "Epoch 131/200: 100%|██████████| 36/36 [00:29<00:00,  1.21it/s]\n",
      "Epoch 131/200: 100%|██████████| 4/4 [00:02<00:00,  1.58it/s]\n"
     ]
    },
    {
     "name": "stdout",
     "output_type": "stream",
     "text": [
      "Epoch [131/200] | Train Loss: 0.0033 | Val Loss: 0.0029 | Train_PSNR: 27.93 | Val_PSNR: 28.57 | Train_SSIM: 0.8307 | Val_SSIM: 0.9119\n"
     ]
    },
    {
     "name": "stderr",
     "output_type": "stream",
     "text": [
      "Epoch 132/200: 100%|██████████| 36/36 [00:30<00:00,  1.19it/s]\n",
      "Epoch 132/200: 100%|██████████| 4/4 [00:02<00:00,  1.61it/s]\n"
     ]
    },
    {
     "name": "stdout",
     "output_type": "stream",
     "text": [
      "Epoch [132/200] | Train Loss: 0.0033 | Val Loss: 0.0025 | Train_PSNR: 28.02 | Val_PSNR: 29.24 | Train_SSIM: 0.8331 | Val_SSIM: 0.9163\n"
     ]
    },
    {
     "name": "stderr",
     "output_type": "stream",
     "text": [
      "Epoch 133/200: 100%|██████████| 36/36 [00:29<00:00,  1.21it/s]\n",
      "Epoch 133/200: 100%|██████████| 4/4 [00:02<00:00,  1.61it/s]\n"
     ]
    },
    {
     "name": "stdout",
     "output_type": "stream",
     "text": [
      "Epoch [133/200] | Train Loss: 0.0032 | Val Loss: 0.0023 | Train_PSNR: 28.12 | Val_PSNR: 29.63 | Train_SSIM: 0.8355 | Val_SSIM: 0.9202\n",
      "Model Saved (Best SSIM)\n"
     ]
    },
    {
     "name": "stderr",
     "output_type": "stream",
     "text": [
      "Epoch 134/200: 100%|██████████| 36/36 [00:29<00:00,  1.20it/s]\n",
      "Epoch 134/200: 100%|██████████| 4/4 [00:02<00:00,  1.61it/s]\n"
     ]
    },
    {
     "name": "stdout",
     "output_type": "stream",
     "text": [
      "Epoch [134/200] | Train Loss: 0.0032 | Val Loss: 0.0027 | Train_PSNR: 28.12 | Val_PSNR: 28.89 | Train_SSIM: 0.8360 | Val_SSIM: 0.9150\n"
     ]
    },
    {
     "name": "stderr",
     "output_type": "stream",
     "text": [
      "Epoch 135/200: 100%|██████████| 36/36 [00:29<00:00,  1.20it/s]\n",
      "Epoch 135/200: 100%|██████████| 4/4 [00:02<00:00,  1.57it/s]\n"
     ]
    },
    {
     "name": "stdout",
     "output_type": "stream",
     "text": [
      "Epoch [135/200] | Train Loss: 0.0032 | Val Loss: 0.0024 | Train_PSNR: 28.18 | Val_PSNR: 29.40 | Train_SSIM: 0.8375 | Val_SSIM: 0.9190\n"
     ]
    },
    {
     "name": "stderr",
     "output_type": "stream",
     "text": [
      "Epoch 136/200: 100%|██████████| 36/36 [00:30<00:00,  1.20it/s]\n",
      "Epoch 136/200: 100%|██████████| 4/4 [00:02<00:00,  1.64it/s]\n"
     ]
    },
    {
     "name": "stdout",
     "output_type": "stream",
     "text": [
      "Epoch [136/200] | Train Loss: 0.0032 | Val Loss: 0.0023 | Train_PSNR: 28.18 | Val_PSNR: 29.59 | Train_SSIM: 0.8382 | Val_SSIM: 0.9201\n"
     ]
    },
    {
     "name": "stderr",
     "output_type": "stream",
     "text": [
      "Epoch 137/200: 100%|██████████| 36/36 [00:30<00:00,  1.19it/s]\n",
      "Epoch 137/200: 100%|██████████| 4/4 [00:02<00:00,  1.57it/s]\n"
     ]
    },
    {
     "name": "stdout",
     "output_type": "stream",
     "text": [
      "Epoch [137/200] | Train Loss: 0.0031 | Val Loss: 0.0022 | Train_PSNR: 28.29 | Val_PSNR: 29.69 | Train_SSIM: 0.8399 | Val_SSIM: 0.9207\n",
      "Model Saved (Best SSIM)\n"
     ]
    },
    {
     "name": "stderr",
     "output_type": "stream",
     "text": [
      "Epoch 138/200: 100%|██████████| 36/36 [00:30<00:00,  1.20it/s]\n",
      "Epoch 138/200: 100%|██████████| 4/4 [00:02<00:00,  1.59it/s]\n"
     ]
    },
    {
     "name": "stdout",
     "output_type": "stream",
     "text": [
      "Epoch [138/200] | Train Loss: 0.0031 | Val Loss: 0.0023 | Train_PSNR: 28.31 | Val_PSNR: 29.58 | Train_SSIM: 0.8406 | Val_SSIM: 0.9195\n"
     ]
    },
    {
     "name": "stderr",
     "output_type": "stream",
     "text": [
      "Epoch 139/200: 100%|██████████| 36/36 [00:29<00:00,  1.21it/s]\n",
      "Epoch 139/200: 100%|██████████| 4/4 [00:02<00:00,  1.56it/s]\n"
     ]
    },
    {
     "name": "stdout",
     "output_type": "stream",
     "text": [
      "Epoch [139/200] | Train Loss: 0.0031 | Val Loss: 0.0023 | Train_PSNR: 28.33 | Val_PSNR: 29.68 | Train_SSIM: 0.8408 | Val_SSIM: 0.9203\n"
     ]
    },
    {
     "name": "stderr",
     "output_type": "stream",
     "text": [
      "Epoch 140/200: 100%|██████████| 36/36 [00:29<00:00,  1.20it/s]\n",
      "Epoch 140/200: 100%|██████████| 4/4 [00:02<00:00,  1.60it/s]\n"
     ]
    },
    {
     "name": "stdout",
     "output_type": "stream",
     "text": [
      "Epoch [140/200] | Train Loss: 0.0031 | Val Loss: 0.0023 | Train_PSNR: 28.32 | Val_PSNR: 29.58 | Train_SSIM: 0.8410 | Val_SSIM: 0.9203\n"
     ]
    },
    {
     "name": "stderr",
     "output_type": "stream",
     "text": [
      "Epoch 141/200: 100%|██████████| 36/36 [00:30<00:00,  1.20it/s]\n",
      "Epoch 141/200: 100%|██████████| 4/4 [00:02<00:00,  1.60it/s]\n"
     ]
    },
    {
     "name": "stdout",
     "output_type": "stream",
     "text": [
      "Epoch [141/200] | Train Loss: 0.0030 | Val Loss: 0.0024 | Train_PSNR: 28.36 | Val_PSNR: 29.45 | Train_SSIM: 0.8417 | Val_SSIM: 0.9195\n"
     ]
    },
    {
     "name": "stderr",
     "output_type": "stream",
     "text": [
      "Epoch 142/200: 100%|██████████| 36/36 [00:30<00:00,  1.19it/s]\n",
      "Epoch 142/200: 100%|██████████| 4/4 [00:02<00:00,  1.59it/s]\n"
     ]
    },
    {
     "name": "stdout",
     "output_type": "stream",
     "text": [
      "Epoch [142/200] | Train Loss: 0.0030 | Val Loss: 0.0023 | Train_PSNR: 28.35 | Val_PSNR: 29.57 | Train_SSIM: 0.8418 | Val_SSIM: 0.9204\n"
     ]
    },
    {
     "name": "stderr",
     "output_type": "stream",
     "text": [
      "Epoch 143/200: 100%|██████████| 36/36 [00:30<00:00,  1.20it/s]\n",
      "Epoch 143/200: 100%|██████████| 4/4 [00:02<00:00,  1.60it/s]\n"
     ]
    },
    {
     "name": "stdout",
     "output_type": "stream",
     "text": [
      "Epoch [143/200] | Train Loss: 0.0030 | Val Loss: 0.0023 | Train_PSNR: 28.36 | Val_PSNR: 29.63 | Train_SSIM: 0.8420 | Val_SSIM: 0.9207\n",
      "Model Saved (Best SSIM)\n"
     ]
    },
    {
     "name": "stderr",
     "output_type": "stream",
     "text": [
      "Epoch 144/200: 100%|██████████| 36/36 [00:30<00:00,  1.20it/s]\n",
      "Epoch 144/200: 100%|██████████| 4/4 [00:02<00:00,  1.61it/s]\n"
     ]
    },
    {
     "name": "stdout",
     "output_type": "stream",
     "text": [
      "Epoch [144/200] | Train Loss: 0.0030 | Val Loss: 0.0022 | Train_PSNR: 28.38 | Val_PSNR: 29.70 | Train_SSIM: 0.8425 | Val_SSIM: 0.9212\n",
      "Model Saved (Best PSNR)\n",
      "Model Saved (Best SSIM)\n"
     ]
    },
    {
     "name": "stderr",
     "output_type": "stream",
     "text": [
      "Epoch 145/200: 100%|██████████| 36/36 [00:29<00:00,  1.21it/s]\n",
      "Epoch 145/200: 100%|██████████| 4/4 [00:02<00:00,  1.59it/s]\n"
     ]
    },
    {
     "name": "stdout",
     "output_type": "stream",
     "text": [
      "Epoch [145/200] | Train Loss: 0.0030 | Val Loss: 0.0022 | Train_PSNR: 28.38 | Val_PSNR: 29.70 | Train_SSIM: 0.8424 | Val_SSIM: 0.9209\n"
     ]
    },
    {
     "name": "stderr",
     "output_type": "stream",
     "text": [
      "Epoch 146/200: 100%|██████████| 36/36 [00:30<00:00,  1.20it/s]\n",
      "Epoch 146/200: 100%|██████████| 4/4 [00:02<00:00,  1.59it/s]\n"
     ]
    },
    {
     "name": "stdout",
     "output_type": "stream",
     "text": [
      "Epoch [146/200] | Train Loss: 0.0030 | Val Loss: 0.0022 | Train_PSNR: 28.40 | Val_PSNR: 29.74 | Train_SSIM: 0.8428 | Val_SSIM: 0.9211\n",
      "Model Saved (Best PSNR)\n"
     ]
    },
    {
     "name": "stderr",
     "output_type": "stream",
     "text": [
      "Epoch 147/200: 100%|██████████| 36/36 [00:30<00:00,  1.19it/s]\n",
      "Epoch 147/200: 100%|██████████| 4/4 [00:02<00:00,  1.60it/s]\n"
     ]
    },
    {
     "name": "stdout",
     "output_type": "stream",
     "text": [
      "Epoch [147/200] | Train Loss: 0.0030 | Val Loss: 0.0023 | Train_PSNR: 28.38 | Val_PSNR: 29.66 | Train_SSIM: 0.8425 | Val_SSIM: 0.9210\n"
     ]
    },
    {
     "name": "stderr",
     "output_type": "stream",
     "text": [
      "Epoch 148/200: 100%|██████████| 36/36 [00:29<00:00,  1.20it/s]\n",
      "Epoch 148/200: 100%|██████████| 4/4 [00:02<00:00,  1.54it/s]\n"
     ]
    },
    {
     "name": "stdout",
     "output_type": "stream",
     "text": [
      "Epoch [148/200] | Train Loss: 0.0030 | Val Loss: 0.0022 | Train_PSNR: 28.39 | Val_PSNR: 29.76 | Train_SSIM: 0.8428 | Val_SSIM: 0.9213\n",
      "Model Saved (Best PSNR)\n",
      "Model Saved (Best SSIM)\n"
     ]
    },
    {
     "name": "stderr",
     "output_type": "stream",
     "text": [
      "Epoch 149/200: 100%|██████████| 36/36 [00:30<00:00,  1.19it/s]\n",
      "Epoch 149/200: 100%|██████████| 4/4 [00:02<00:00,  1.59it/s]\n"
     ]
    },
    {
     "name": "stdout",
     "output_type": "stream",
     "text": [
      "Epoch [149/200] | Train Loss: 0.0030 | Val Loss: 0.0022 | Train_PSNR: 28.39 | Val_PSNR: 29.71 | Train_SSIM: 0.8429 | Val_SSIM: 0.9210\n"
     ]
    },
    {
     "name": "stderr",
     "output_type": "stream",
     "text": [
      "Epoch 150/200: 100%|██████████| 36/36 [00:30<00:00,  1.19it/s]\n",
      "Epoch 150/200: 100%|██████████| 4/4 [00:02<00:00,  1.56it/s]\n"
     ]
    },
    {
     "name": "stdout",
     "output_type": "stream",
     "text": [
      "Epoch [150/200] | Train Loss: 0.0030 | Val Loss: 0.0022 | Train_PSNR: 28.40 | Val_PSNR: 29.75 | Train_SSIM: 0.8430 | Val_SSIM: 0.9215\n",
      "Model Saved (Best SSIM)\n"
     ]
    },
    {
     "name": "stderr",
     "output_type": "stream",
     "text": [
      "Epoch 151/200: 100%|██████████| 36/36 [00:30<00:00,  1.19it/s]\n",
      "Epoch 151/200: 100%|██████████| 4/4 [00:02<00:00,  1.57it/s]\n"
     ]
    },
    {
     "name": "stdout",
     "output_type": "stream",
     "text": [
      "Epoch [151/200] | Train Loss: 0.0030 | Val Loss: 0.0023 | Train_PSNR: 28.40 | Val_PSNR: 29.67 | Train_SSIM: 0.8432 | Val_SSIM: 0.9209\n"
     ]
    },
    {
     "name": "stderr",
     "output_type": "stream",
     "text": [
      "Epoch 152/200: 100%|██████████| 36/36 [00:30<00:00,  1.19it/s]\n",
      "Epoch 152/200: 100%|██████████| 4/4 [00:02<00:00,  1.59it/s]\n"
     ]
    },
    {
     "name": "stdout",
     "output_type": "stream",
     "text": [
      "Epoch [152/200] | Train Loss: 0.0030 | Val Loss: 0.0022 | Train_PSNR: 28.41 | Val_PSNR: 29.72 | Train_SSIM: 0.8430 | Val_SSIM: 0.9210\n"
     ]
    },
    {
     "name": "stderr",
     "output_type": "stream",
     "text": [
      "Epoch 153/200: 100%|██████████| 36/36 [00:30<00:00,  1.19it/s]\n",
      "Epoch 153/200: 100%|██████████| 4/4 [00:02<00:00,  1.38it/s]\n"
     ]
    },
    {
     "name": "stdout",
     "output_type": "stream",
     "text": [
      "Epoch [153/200] | Train Loss: 0.0030 | Val Loss: 0.0022 | Train_PSNR: 28.41 | Val_PSNR: 29.81 | Train_SSIM: 0.8433 | Val_SSIM: 0.9219\n",
      "Model Saved (Best PSNR)\n",
      "Model Saved (Best SSIM)\n"
     ]
    },
    {
     "name": "stderr",
     "output_type": "stream",
     "text": [
      "Epoch 154/200: 100%|██████████| 36/36 [00:30<00:00,  1.19it/s]\n",
      "Epoch 154/200: 100%|██████████| 4/4 [00:02<00:00,  1.54it/s]\n"
     ]
    },
    {
     "name": "stdout",
     "output_type": "stream",
     "text": [
      "Epoch [154/200] | Train Loss: 0.0030 | Val Loss: 0.0023 | Train_PSNR: 28.36 | Val_PSNR: 29.64 | Train_SSIM: 0.8423 | Val_SSIM: 0.9208\n"
     ]
    },
    {
     "name": "stderr",
     "output_type": "stream",
     "text": [
      "Epoch 155/200: 100%|██████████| 36/36 [00:29<00:00,  1.20it/s]\n",
      "Epoch 155/200: 100%|██████████| 4/4 [00:02<00:00,  1.55it/s]\n"
     ]
    },
    {
     "name": "stdout",
     "output_type": "stream",
     "text": [
      "Epoch [155/200] | Train Loss: 0.0030 | Val Loss: 0.0022 | Train_PSNR: 28.41 | Val_PSNR: 29.74 | Train_SSIM: 0.8430 | Val_SSIM: 0.9210\n"
     ]
    },
    {
     "name": "stderr",
     "output_type": "stream",
     "text": [
      "Epoch 156/200: 100%|██████████| 36/36 [00:29<00:00,  1.21it/s]\n",
      "Epoch 156/200: 100%|██████████| 4/4 [00:02<00:00,  1.63it/s]\n"
     ]
    },
    {
     "name": "stdout",
     "output_type": "stream",
     "text": [
      "Epoch [156/200] | Train Loss: 0.0030 | Val Loss: 0.0022 | Train_PSNR: 28.42 | Val_PSNR: 29.79 | Train_SSIM: 0.8435 | Val_SSIM: 0.9217\n"
     ]
    },
    {
     "name": "stderr",
     "output_type": "stream",
     "text": [
      "Epoch 157/200: 100%|██████████| 36/36 [00:29<00:00,  1.21it/s]\n",
      "Epoch 157/200: 100%|██████████| 4/4 [00:02<00:00,  1.59it/s]\n"
     ]
    },
    {
     "name": "stdout",
     "output_type": "stream",
     "text": [
      "Epoch [157/200] | Train Loss: 0.0030 | Val Loss: 0.0022 | Train_PSNR: 28.42 | Val_PSNR: 29.73 | Train_SSIM: 0.8435 | Val_SSIM: 0.9214\n"
     ]
    },
    {
     "name": "stderr",
     "output_type": "stream",
     "text": [
      "Epoch 158/200: 100%|██████████| 36/36 [00:30<00:00,  1.18it/s]\n",
      "Epoch 158/200: 100%|██████████| 4/4 [00:02<00:00,  1.59it/s]\n"
     ]
    },
    {
     "name": "stdout",
     "output_type": "stream",
     "text": [
      "Epoch [158/200] | Train Loss: 0.0030 | Val Loss: 0.0022 | Train_PSNR: 28.36 | Val_PSNR: 29.77 | Train_SSIM: 0.8425 | Val_SSIM: 0.9215\n"
     ]
    },
    {
     "name": "stderr",
     "output_type": "stream",
     "text": [
      "Epoch 159/200: 100%|██████████| 36/36 [00:29<00:00,  1.20it/s]\n",
      "Epoch 159/200: 100%|██████████| 4/4 [00:02<00:00,  1.59it/s]\n"
     ]
    },
    {
     "name": "stdout",
     "output_type": "stream",
     "text": [
      "Epoch [159/200] | Train Loss: 0.0030 | Val Loss: 0.0022 | Train_PSNR: 28.44 | Val_PSNR: 29.72 | Train_SSIM: 0.8440 | Val_SSIM: 0.9215\n"
     ]
    },
    {
     "name": "stderr",
     "output_type": "stream",
     "text": [
      "Epoch 160/200: 100%|██████████| 36/36 [00:30<00:00,  1.20it/s]\n",
      "Epoch 160/200: 100%|██████████| 4/4 [00:02<00:00,  1.59it/s]\n"
     ]
    },
    {
     "name": "stdout",
     "output_type": "stream",
     "text": [
      "Epoch [160/200] | Train Loss: 0.0030 | Val Loss: 0.0022 | Train_PSNR: 28.42 | Val_PSNR: 29.74 | Train_SSIM: 0.8439 | Val_SSIM: 0.9215\n"
     ]
    },
    {
     "name": "stderr",
     "output_type": "stream",
     "text": [
      "Epoch 161/200: 100%|██████████| 36/36 [00:29<00:00,  1.20it/s]\n",
      "Epoch 161/200: 100%|██████████| 4/4 [00:02<00:00,  1.59it/s]\n"
     ]
    },
    {
     "name": "stdout",
     "output_type": "stream",
     "text": [
      "Epoch [161/200] | Train Loss: 0.0030 | Val Loss: 0.0022 | Train_PSNR: 28.44 | Val_PSNR: 29.80 | Train_SSIM: 0.8443 | Val_SSIM: 0.9218\n"
     ]
    },
    {
     "name": "stderr",
     "output_type": "stream",
     "text": [
      "Epoch 162/200: 100%|██████████| 36/36 [00:30<00:00,  1.20it/s]\n",
      "Epoch 162/200: 100%|██████████| 4/4 [00:02<00:00,  1.58it/s]\n"
     ]
    },
    {
     "name": "stdout",
     "output_type": "stream",
     "text": [
      "Epoch [162/200] | Train Loss: 0.0030 | Val Loss: 0.0022 | Train_PSNR: 28.37 | Val_PSNR: 29.78 | Train_SSIM: 0.8425 | Val_SSIM: 0.9217\n"
     ]
    },
    {
     "name": "stderr",
     "output_type": "stream",
     "text": [
      "Epoch 163/200: 100%|██████████| 36/36 [00:30<00:00,  1.20it/s]\n",
      "Epoch 163/200: 100%|██████████| 4/4 [00:02<00:00,  1.58it/s]\n"
     ]
    },
    {
     "name": "stdout",
     "output_type": "stream",
     "text": [
      "Epoch [163/200] | Train Loss: 0.0030 | Val Loss: 0.0022 | Train_PSNR: 28.43 | Val_PSNR: 29.79 | Train_SSIM: 0.8441 | Val_SSIM: 0.9217\n"
     ]
    },
    {
     "name": "stderr",
     "output_type": "stream",
     "text": [
      "Epoch 164/200: 100%|██████████| 36/36 [00:29<00:00,  1.20it/s]\n",
      "Epoch 164/200: 100%|██████████| 4/4 [00:02<00:00,  1.58it/s]\n"
     ]
    },
    {
     "name": "stdout",
     "output_type": "stream",
     "text": [
      "Epoch [164/200] | Train Loss: 0.0030 | Val Loss: 0.0022 | Train_PSNR: 28.37 | Val_PSNR: 29.73 | Train_SSIM: 0.8425 | Val_SSIM: 0.9214\n"
     ]
    },
    {
     "name": "stderr",
     "output_type": "stream",
     "text": [
      "Epoch 165/200: 100%|██████████| 36/36 [00:29<00:00,  1.20it/s]\n",
      "Epoch 165/200: 100%|██████████| 4/4 [00:02<00:00,  1.61it/s]\n"
     ]
    },
    {
     "name": "stdout",
     "output_type": "stream",
     "text": [
      "Epoch [165/200] | Train Loss: 0.0030 | Val Loss: 0.0022 | Train_PSNR: 28.42 | Val_PSNR: 29.80 | Train_SSIM: 0.8438 | Val_SSIM: 0.9218\n"
     ]
    },
    {
     "name": "stderr",
     "output_type": "stream",
     "text": [
      "Epoch 166/200: 100%|██████████| 36/36 [00:29<00:00,  1.21it/s]\n",
      "Epoch 166/200: 100%|██████████| 4/4 [00:02<00:00,  1.57it/s]\n"
     ]
    },
    {
     "name": "stdout",
     "output_type": "stream",
     "text": [
      "Epoch [166/200] | Train Loss: 0.0030 | Val Loss: 0.0022 | Train_PSNR: 28.42 | Val_PSNR: 29.77 | Train_SSIM: 0.8438 | Val_SSIM: 0.9216\n"
     ]
    },
    {
     "name": "stderr",
     "output_type": "stream",
     "text": [
      "Epoch 167/200: 100%|██████████| 36/36 [00:29<00:00,  1.20it/s]\n",
      "Epoch 167/200: 100%|██████████| 4/4 [00:02<00:00,  1.60it/s]\n"
     ]
    },
    {
     "name": "stdout",
     "output_type": "stream",
     "text": [
      "Epoch [167/200] | Train Loss: 0.0030 | Val Loss: 0.0022 | Train_PSNR: 28.43 | Val_PSNR: 29.80 | Train_SSIM: 0.8439 | Val_SSIM: 0.9218\n"
     ]
    },
    {
     "name": "stderr",
     "output_type": "stream",
     "text": [
      "Epoch 168/200: 100%|██████████| 36/36 [00:30<00:00,  1.19it/s]\n",
      "Epoch 168/200: 100%|██████████| 4/4 [00:02<00:00,  1.60it/s]\n"
     ]
    },
    {
     "name": "stdout",
     "output_type": "stream",
     "text": [
      "Epoch [168/200] | Train Loss: 0.0030 | Val Loss: 0.0022 | Train_PSNR: 28.43 | Val_PSNR: 29.78 | Train_SSIM: 0.8441 | Val_SSIM: 0.9217\n"
     ]
    },
    {
     "name": "stderr",
     "output_type": "stream",
     "text": [
      "Epoch 169/200: 100%|██████████| 36/36 [00:29<00:00,  1.20it/s]\n",
      "Epoch 169/200: 100%|██████████| 4/4 [00:02<00:00,  1.60it/s]\n"
     ]
    },
    {
     "name": "stdout",
     "output_type": "stream",
     "text": [
      "Epoch [169/200] | Train Loss: 0.0030 | Val Loss: 0.0022 | Train_PSNR: 28.38 | Val_PSNR: 29.74 | Train_SSIM: 0.8429 | Val_SSIM: 0.9215\n"
     ]
    },
    {
     "name": "stderr",
     "output_type": "stream",
     "text": [
      "Epoch 170/200: 100%|██████████| 36/36 [00:29<00:00,  1.21it/s]\n",
      "Epoch 170/200: 100%|██████████| 4/4 [00:02<00:00,  1.61it/s]\n"
     ]
    },
    {
     "name": "stdout",
     "output_type": "stream",
     "text": [
      "Epoch [170/200] | Train Loss: 0.0030 | Val Loss: 0.0022 | Train_PSNR: 28.45 | Val_PSNR: 29.78 | Train_SSIM: 0.8443 | Val_SSIM: 0.9217\n"
     ]
    },
    {
     "name": "stderr",
     "output_type": "stream",
     "text": [
      "Epoch 171/200: 100%|██████████| 36/36 [00:29<00:00,  1.20it/s]\n",
      "Epoch 171/200: 100%|██████████| 4/4 [00:02<00:00,  1.59it/s]\n"
     ]
    },
    {
     "name": "stdout",
     "output_type": "stream",
     "text": [
      "Epoch [171/200] | Train Loss: 0.0030 | Val Loss: 0.0022 | Train_PSNR: 28.43 | Val_PSNR: 29.79 | Train_SSIM: 0.8439 | Val_SSIM: 0.9218\n"
     ]
    },
    {
     "name": "stderr",
     "output_type": "stream",
     "text": [
      "Epoch 172/200: 100%|██████████| 36/36 [00:29<00:00,  1.21it/s]\n",
      "Epoch 172/200: 100%|██████████| 4/4 [00:02<00:00,  1.58it/s]\n"
     ]
    },
    {
     "name": "stdout",
     "output_type": "stream",
     "text": [
      "Epoch [172/200] | Train Loss: 0.0030 | Val Loss: 0.0022 | Train_PSNR: 28.39 | Val_PSNR: 29.77 | Train_SSIM: 0.8430 | Val_SSIM: 0.9217\n"
     ]
    },
    {
     "name": "stderr",
     "output_type": "stream",
     "text": [
      "Epoch 173/200: 100%|██████████| 36/36 [00:30<00:00,  1.20it/s]\n",
      "Epoch 173/200: 100%|██████████| 4/4 [00:03<00:00,  1.24it/s]\n"
     ]
    },
    {
     "name": "stdout",
     "output_type": "stream",
     "text": [
      "Epoch [173/200] | Train Loss: 0.0030 | Val Loss: 0.0022 | Train_PSNR: 28.45 | Val_PSNR: 29.77 | Train_SSIM: 0.8443 | Val_SSIM: 0.9217\n"
     ]
    },
    {
     "name": "stderr",
     "output_type": "stream",
     "text": [
      "Epoch 174/200: 100%|██████████| 36/36 [00:29<00:00,  1.20it/s]\n",
      "Epoch 174/200: 100%|██████████| 4/4 [00:02<00:00,  1.61it/s]\n"
     ]
    },
    {
     "name": "stdout",
     "output_type": "stream",
     "text": [
      "Epoch [174/200] | Train Loss: 0.0030 | Val Loss: 0.0022 | Train_PSNR: 28.45 | Val_PSNR: 29.78 | Train_SSIM: 0.8442 | Val_SSIM: 0.9217\n"
     ]
    },
    {
     "name": "stderr",
     "output_type": "stream",
     "text": [
      "Epoch 175/200: 100%|██████████| 36/36 [00:29<00:00,  1.20it/s]\n",
      "Epoch 175/200: 100%|██████████| 4/4 [00:02<00:00,  1.56it/s]\n"
     ]
    },
    {
     "name": "stdout",
     "output_type": "stream",
     "text": [
      "Epoch [175/200] | Train Loss: 0.0030 | Val Loss: 0.0022 | Train_PSNR: 28.44 | Val_PSNR: 29.78 | Train_SSIM: 0.8443 | Val_SSIM: 0.9217\n"
     ]
    },
    {
     "name": "stderr",
     "output_type": "stream",
     "text": [
      "Epoch 176/200: 100%|██████████| 36/36 [00:29<00:00,  1.21it/s]\n",
      "Epoch 176/200: 100%|██████████| 4/4 [00:02<00:00,  1.60it/s]\n"
     ]
    },
    {
     "name": "stdout",
     "output_type": "stream",
     "text": [
      "Epoch [176/200] | Train Loss: 0.0030 | Val Loss: 0.0022 | Train_PSNR: 28.43 | Val_PSNR: 29.78 | Train_SSIM: 0.8442 | Val_SSIM: 0.9217\n"
     ]
    },
    {
     "name": "stderr",
     "output_type": "stream",
     "text": [
      "Epoch 177/200: 100%|██████████| 36/36 [00:30<00:00,  1.20it/s]\n",
      "Epoch 177/200: 100%|██████████| 4/4 [00:02<00:00,  1.58it/s]\n"
     ]
    },
    {
     "name": "stdout",
     "output_type": "stream",
     "text": [
      "Epoch [177/200] | Train Loss: 0.0030 | Val Loss: 0.0022 | Train_PSNR: 28.44 | Val_PSNR: 29.78 | Train_SSIM: 0.8441 | Val_SSIM: 0.9217\n"
     ]
    },
    {
     "name": "stderr",
     "output_type": "stream",
     "text": [
      "Epoch 178/200: 100%|██████████| 36/36 [00:29<00:00,  1.20it/s]\n",
      "Epoch 178/200: 100%|██████████| 4/4 [00:02<00:00,  1.60it/s]\n"
     ]
    },
    {
     "name": "stdout",
     "output_type": "stream",
     "text": [
      "Epoch [178/200] | Train Loss: 0.0030 | Val Loss: 0.0022 | Train_PSNR: 28.36 | Val_PSNR: 29.78 | Train_SSIM: 0.8427 | Val_SSIM: 0.9217\n"
     ]
    },
    {
     "name": "stderr",
     "output_type": "stream",
     "text": [
      "Epoch 179/200: 100%|██████████| 36/36 [00:30<00:00,  1.19it/s]\n",
      "Epoch 179/200: 100%|██████████| 4/4 [00:02<00:00,  1.59it/s]\n"
     ]
    },
    {
     "name": "stdout",
     "output_type": "stream",
     "text": [
      "Epoch [179/200] | Train Loss: 0.0030 | Val Loss: 0.0022 | Train_PSNR: 28.44 | Val_PSNR: 29.78 | Train_SSIM: 0.8441 | Val_SSIM: 0.9217\n"
     ]
    },
    {
     "name": "stderr",
     "output_type": "stream",
     "text": [
      "Epoch 180/200: 100%|██████████| 36/36 [00:29<00:00,  1.20it/s]\n",
      "Epoch 180/200: 100%|██████████| 4/4 [00:02<00:00,  1.61it/s]\n"
     ]
    },
    {
     "name": "stdout",
     "output_type": "stream",
     "text": [
      "Epoch [180/200] | Train Loss: 0.0030 | Val Loss: 0.0022 | Train_PSNR: 28.44 | Val_PSNR: 29.78 | Train_SSIM: 0.8441 | Val_SSIM: 0.9217\n"
     ]
    },
    {
     "name": "stderr",
     "output_type": "stream",
     "text": [
      "Epoch 181/200: 100%|██████████| 36/36 [00:29<00:00,  1.20it/s]\n",
      "Epoch 181/200: 100%|██████████| 4/4 [00:02<00:00,  1.54it/s]\n"
     ]
    },
    {
     "name": "stdout",
     "output_type": "stream",
     "text": [
      "Epoch [181/200] | Train Loss: 0.0030 | Val Loss: 0.0022 | Train_PSNR: 28.44 | Val_PSNR: 29.78 | Train_SSIM: 0.8441 | Val_SSIM: 0.9217\n"
     ]
    },
    {
     "name": "stderr",
     "output_type": "stream",
     "text": [
      "Epoch 182/200: 100%|██████████| 36/36 [00:30<00:00,  1.20it/s]\n",
      "Epoch 182/200: 100%|██████████| 4/4 [00:02<00:00,  1.60it/s]\n"
     ]
    },
    {
     "name": "stdout",
     "output_type": "stream",
     "text": [
      "Epoch [182/200] | Train Loss: 0.0030 | Val Loss: 0.0022 | Train_PSNR: 28.42 | Val_PSNR: 29.78 | Train_SSIM: 0.8438 | Val_SSIM: 0.9217\n"
     ]
    },
    {
     "name": "stderr",
     "output_type": "stream",
     "text": [
      "Epoch 183/200: 100%|██████████| 36/36 [00:30<00:00,  1.19it/s]\n",
      "Epoch 183/200: 100%|██████████| 4/4 [00:02<00:00,  1.54it/s]\n"
     ]
    },
    {
     "name": "stdout",
     "output_type": "stream",
     "text": [
      "Epoch [183/200] | Train Loss: 0.0029 | Val Loss: 0.0022 | Train_PSNR: 28.48 | Val_PSNR: 29.78 | Train_SSIM: 0.8448 | Val_SSIM: 0.9217\n"
     ]
    },
    {
     "name": "stderr",
     "output_type": "stream",
     "text": [
      "Epoch 184/200: 100%|██████████| 36/36 [00:30<00:00,  1.18it/s]\n",
      "Epoch 184/200: 100%|██████████| 4/4 [00:02<00:00,  1.40it/s]\n"
     ]
    },
    {
     "name": "stdout",
     "output_type": "stream",
     "text": [
      "Epoch [184/200] | Train Loss: 0.0030 | Val Loss: 0.0022 | Train_PSNR: 28.45 | Val_PSNR: 29.78 | Train_SSIM: 0.8443 | Val_SSIM: 0.9217\n"
     ]
    },
    {
     "name": "stderr",
     "output_type": "stream",
     "text": [
      "Epoch 185/200: 100%|██████████| 36/36 [00:30<00:00,  1.18it/s]\n",
      "Epoch 185/200: 100%|██████████| 4/4 [00:02<00:00,  1.57it/s]\n"
     ]
    },
    {
     "name": "stdout",
     "output_type": "stream",
     "text": [
      "Epoch [185/200] | Train Loss: 0.0030 | Val Loss: 0.0022 | Train_PSNR: 28.38 | Val_PSNR: 29.78 | Train_SSIM: 0.8430 | Val_SSIM: 0.9217\n"
     ]
    },
    {
     "name": "stderr",
     "output_type": "stream",
     "text": [
      "Epoch 186/200: 100%|██████████| 36/36 [00:30<00:00,  1.20it/s]\n",
      "Epoch 186/200: 100%|██████████| 4/4 [00:02<00:00,  1.60it/s]\n"
     ]
    },
    {
     "name": "stdout",
     "output_type": "stream",
     "text": [
      "Epoch [186/200] | Train Loss: 0.0030 | Val Loss: 0.0022 | Train_PSNR: 28.44 | Val_PSNR: 29.78 | Train_SSIM: 0.8440 | Val_SSIM: 0.9217\n"
     ]
    },
    {
     "name": "stderr",
     "output_type": "stream",
     "text": [
      "Epoch 187/200: 100%|██████████| 36/36 [00:29<00:00,  1.20it/s]\n",
      "Epoch 187/200: 100%|██████████| 4/4 [00:02<00:00,  1.61it/s]\n"
     ]
    },
    {
     "name": "stdout",
     "output_type": "stream",
     "text": [
      "Epoch [187/200] | Train Loss: 0.0030 | Val Loss: 0.0022 | Train_PSNR: 28.45 | Val_PSNR: 29.78 | Train_SSIM: 0.8442 | Val_SSIM: 0.9217\n"
     ]
    },
    {
     "name": "stderr",
     "output_type": "stream",
     "text": [
      "Epoch 188/200: 100%|██████████| 36/36 [00:30<00:00,  1.20it/s]\n",
      "Epoch 188/200: 100%|██████████| 4/4 [00:02<00:00,  1.58it/s]\n"
     ]
    },
    {
     "name": "stdout",
     "output_type": "stream",
     "text": [
      "Epoch [188/200] | Train Loss: 0.0030 | Val Loss: 0.0022 | Train_PSNR: 28.43 | Val_PSNR: 29.78 | Train_SSIM: 0.8442 | Val_SSIM: 0.9217\n"
     ]
    },
    {
     "name": "stderr",
     "output_type": "stream",
     "text": [
      "Epoch 189/200: 100%|██████████| 36/36 [00:30<00:00,  1.20it/s]\n",
      "Epoch 189/200: 100%|██████████| 4/4 [00:02<00:00,  1.58it/s]\n"
     ]
    },
    {
     "name": "stdout",
     "output_type": "stream",
     "text": [
      "Epoch [189/200] | Train Loss: 0.0030 | Val Loss: 0.0022 | Train_PSNR: 28.46 | Val_PSNR: 29.78 | Train_SSIM: 0.8443 | Val_SSIM: 0.9217\n"
     ]
    },
    {
     "name": "stderr",
     "output_type": "stream",
     "text": [
      "Epoch 190/200: 100%|██████████| 36/36 [00:29<00:00,  1.20it/s]\n",
      "Epoch 190/200: 100%|██████████| 4/4 [00:02<00:00,  1.53it/s]\n"
     ]
    },
    {
     "name": "stdout",
     "output_type": "stream",
     "text": [
      "Epoch [190/200] | Train Loss: 0.0030 | Val Loss: 0.0022 | Train_PSNR: 28.45 | Val_PSNR: 29.78 | Train_SSIM: 0.8443 | Val_SSIM: 0.9217\n"
     ]
    },
    {
     "name": "stderr",
     "output_type": "stream",
     "text": [
      "Epoch 191/200: 100%|██████████| 36/36 [00:30<00:00,  1.19it/s]\n",
      "Epoch 191/200: 100%|██████████| 4/4 [00:02<00:00,  1.54it/s]\n"
     ]
    },
    {
     "name": "stdout",
     "output_type": "stream",
     "text": [
      "Epoch [191/200] | Train Loss: 0.0030 | Val Loss: 0.0022 | Train_PSNR: 28.43 | Val_PSNR: 29.78 | Train_SSIM: 0.8441 | Val_SSIM: 0.9217\n"
     ]
    },
    {
     "name": "stderr",
     "output_type": "stream",
     "text": [
      "Epoch 192/200: 100%|██████████| 36/36 [00:29<00:00,  1.20it/s]\n",
      "Epoch 192/200: 100%|██████████| 4/4 [00:02<00:00,  1.55it/s]\n"
     ]
    },
    {
     "name": "stdout",
     "output_type": "stream",
     "text": [
      "Epoch [192/200] | Train Loss: 0.0030 | Val Loss: 0.0022 | Train_PSNR: 28.46 | Val_PSNR: 29.78 | Train_SSIM: 0.8446 | Val_SSIM: 0.9217\n"
     ]
    },
    {
     "name": "stderr",
     "output_type": "stream",
     "text": [
      "Epoch 193/200: 100%|██████████| 36/36 [00:29<00:00,  1.20it/s]\n",
      "Epoch 193/200: 100%|██████████| 4/4 [00:02<00:00,  1.61it/s]\n"
     ]
    },
    {
     "name": "stdout",
     "output_type": "stream",
     "text": [
      "Epoch [193/200] | Train Loss: 0.0030 | Val Loss: 0.0022 | Train_PSNR: 28.45 | Val_PSNR: 29.78 | Train_SSIM: 0.8443 | Val_SSIM: 0.9217\n"
     ]
    },
    {
     "name": "stderr",
     "output_type": "stream",
     "text": [
      "Epoch 194/200: 100%|██████████| 36/36 [00:30<00:00,  1.18it/s]\n",
      "Epoch 194/200: 100%|██████████| 4/4 [00:02<00:00,  1.59it/s]\n"
     ]
    },
    {
     "name": "stdout",
     "output_type": "stream",
     "text": [
      "Epoch [194/200] | Train Loss: 0.0030 | Val Loss: 0.0022 | Train_PSNR: 28.38 | Val_PSNR: 29.78 | Train_SSIM: 0.8428 | Val_SSIM: 0.9217\n"
     ]
    },
    {
     "name": "stderr",
     "output_type": "stream",
     "text": [
      "Epoch 195/200: 100%|██████████| 36/36 [00:29<00:00,  1.20it/s]\n",
      "Epoch 195/200: 100%|██████████| 4/4 [00:02<00:00,  1.58it/s]\n"
     ]
    },
    {
     "name": "stdout",
     "output_type": "stream",
     "text": [
      "Epoch [195/200] | Train Loss: 0.0030 | Val Loss: 0.0022 | Train_PSNR: 28.45 | Val_PSNR: 29.78 | Train_SSIM: 0.8444 | Val_SSIM: 0.9217\n"
     ]
    },
    {
     "name": "stderr",
     "output_type": "stream",
     "text": [
      "Epoch 196/200: 100%|██████████| 36/36 [00:30<00:00,  1.20it/s]\n",
      "Epoch 196/200: 100%|██████████| 4/4 [00:02<00:00,  1.56it/s]\n"
     ]
    },
    {
     "name": "stdout",
     "output_type": "stream",
     "text": [
      "Epoch [196/200] | Train Loss: 0.0030 | Val Loss: 0.0022 | Train_PSNR: 28.44 | Val_PSNR: 29.78 | Train_SSIM: 0.8441 | Val_SSIM: 0.9217\n"
     ]
    },
    {
     "name": "stderr",
     "output_type": "stream",
     "text": [
      "Epoch 197/200: 100%|██████████| 36/36 [00:29<00:00,  1.20it/s]\n",
      "Epoch 197/200: 100%|██████████| 4/4 [00:02<00:00,  1.58it/s]\n"
     ]
    },
    {
     "name": "stdout",
     "output_type": "stream",
     "text": [
      "Epoch [197/200] | Train Loss: 0.0030 | Val Loss: 0.0022 | Train_PSNR: 28.46 | Val_PSNR: 29.78 | Train_SSIM: 0.8446 | Val_SSIM: 0.9217\n"
     ]
    },
    {
     "name": "stderr",
     "output_type": "stream",
     "text": [
      "Epoch 198/200: 100%|██████████| 36/36 [00:30<00:00,  1.20it/s]\n",
      "Epoch 198/200: 100%|██████████| 4/4 [00:02<00:00,  1.60it/s]\n"
     ]
    },
    {
     "name": "stdout",
     "output_type": "stream",
     "text": [
      "Epoch [198/200] | Train Loss: 0.0030 | Val Loss: 0.0022 | Train_PSNR: 28.46 | Val_PSNR: 29.78 | Train_SSIM: 0.8446 | Val_SSIM: 0.9217\n"
     ]
    },
    {
     "name": "stderr",
     "output_type": "stream",
     "text": [
      "Epoch 199/200: 100%|██████████| 36/36 [00:29<00:00,  1.20it/s]\n",
      "Epoch 199/200: 100%|██████████| 4/4 [00:02<00:00,  1.40it/s]\n"
     ]
    },
    {
     "name": "stdout",
     "output_type": "stream",
     "text": [
      "Epoch [199/200] | Train Loss: 0.0030 | Val Loss: 0.0022 | Train_PSNR: 28.44 | Val_PSNR: 29.78 | Train_SSIM: 0.8442 | Val_SSIM: 0.9217\n"
     ]
    },
    {
     "name": "stderr",
     "output_type": "stream",
     "text": [
      "Epoch 200/200: 100%|██████████| 36/36 [00:29<00:00,  1.21it/s]\n",
      "Epoch 200/200: 100%|██████████| 4/4 [00:02<00:00,  1.60it/s]"
     ]
    },
    {
     "name": "stdout",
     "output_type": "stream",
     "text": [
      "Epoch [200/200] | Train Loss: 0.0030 | Val Loss: 0.0022 | Train_PSNR: 28.44 | Val_PSNR: 29.78 | Train_SSIM: 0.8442 | Val_SSIM: 0.9217\n"
     ]
    },
    {
     "name": "stderr",
     "output_type": "stream",
     "text": [
      "\n"
     ]
    }
   ],
   "source": [
    "patch_size = 10\n",
    "input_dim = patch_size**2\n",
    "num_patches = int(150/patch_size)**2\n",
    "device = torch.device(\"cuda\" if torch.cuda.is_available() else \"cpu\")\n",
    "\n",
    "model = SuperResolutionViT(input_dim=input_dim, num_patches=num_patches).to(device)\n",
    "model = nn.DataParallel(model)\n",
    "\n",
    "# Optimizer & Loss\n",
    "optimizer = optim.AdamW(model.parameters(), lr=1e-4, weight_decay=2e-6) #  , weight_decay=2e-4 , weight_decay=1e-4\n",
    "scheduler = torch.optim.lr_scheduler.ReduceLROnPlateau(optimizer, mode='min', factor=0.25, patience=5)\n",
    "criterion = nn.MSELoss() # nn.MSELoss\n",
    "\n",
    "# Track metrics\n",
    "train_losses, val_losses = [], []\n",
    "train_losses, val_losses = [], []\n",
    "val_psnrs, val_ssims = [], []\n",
    "train_psnrs, train_ssims = [], []\n",
    "\n",
    "# Training Loop\n",
    "num_epochs = 200\n",
    "best_val_loss = 10000000.0\n",
    "\n",
    "best_psnr = 0.0  # Track best PSNR\n",
    "best_ssim = 0.0  # Track best SSIM\n",
    "\n",
    "for epoch in range(num_epochs):\n",
    "    model.train()\n",
    "    running_loss = 0.0\n",
    "    total_psnr = 0.0\n",
    "    total_ssim = 0.0\n",
    "\n",
    "    for lr_images, hr_images in tqdm(train_loader, desc=f'Epoch {epoch+1}/{num_epochs}'):\n",
    "        lr_images, hr_images = lr_images.to(device), hr_images.to(device)\n",
    "\n",
    "        optimizer.zero_grad()\n",
    "        lr_images = image_to_patches(lr_images, 10)\n",
    "        output = model(lr_images)\n",
    "\n",
    "        loss = criterion(output.view(lr_images.shape[0], -1), hr_images.view(lr_images.shape[0], -1))\n",
    "        loss.backward()\n",
    "        optimizer.step()\n",
    "\n",
    "        running_loss += loss.item()\n",
    "        output = output.contiguous().view(-1, 1, 150, 150)\n",
    "\n",
    "        # Compute MSE on GPU\n",
    "        mse = torch.mean(F.mse_loss(output, hr_images, reduction='none'), dim=[1, 2, 3])\n",
    "        batch_psnr = 10 * torch.log10(2.0 / mse)  # PSNR formula\n",
    "\n",
    "        # Compute SSIM on GPU\n",
    "        batch_ssim = ssim_torch(output, hr_images, data_range=2.0, size_average=False)  # (B,)\n",
    "\n",
    "        total_psnr += batch_psnr.mean().item()\n",
    "        total_ssim += batch_ssim.mean().item()\n",
    "\n",
    "    train_loss = running_loss / len(train_loader)\n",
    "    avg_psnr_train = total_psnr / len(train_loader)\n",
    "    avg_ssim_train = total_ssim / len(train_loader)\n",
    "\n",
    "    train_psnrs.append(avg_psnr_train)\n",
    "    train_ssims.append(avg_ssim_train)\n",
    "    train_losses.append(train_loss)\n",
    "\n",
    "    # Validation Step\n",
    "    model.eval()\n",
    "    val_loss = 0.0\n",
    "    total_psnr, total_ssim = 0.0, 0.0\n",
    "\n",
    "    with torch.no_grad():\n",
    "        for lr_images, hr_images in tqdm(val_loader, desc=f'Epoch {epoch+1}/{num_epochs}'):\n",
    "            lr_images, hr_images = lr_images.to(device), hr_images.to(device)\n",
    "\n",
    "            lr_images = image_to_patches(lr_images, 10)\n",
    "            output = model(lr_images)\n",
    "\n",
    "            val_loss += criterion(output.view(lr_images.shape[0], -1), hr_images.view(lr_images.shape[0], -1)).item()\n",
    "    \n",
    "            output = output.contiguous().view(-1, 1, 150, 150)\n",
    "            # Compute MSE on GPU\n",
    "            mse = torch.mean(F.mse_loss(output, hr_images, reduction='none'), dim=[1, 2, 3])\n",
    "            batch_psnr = 10 * torch.log10(2.0 / mse)  # PSNR formula\n",
    "\n",
    "            # Compute SSIM on GPU\n",
    "            batch_ssim = ssim_torch(output, hr_images, data_range=2.0, size_average=False)  # (B,)\n",
    "\n",
    "            total_psnr += batch_psnr.mean().item()\n",
    "            total_ssim += batch_ssim.mean().item()\n",
    "\n",
    "    val_loss /= len(val_loader)\n",
    "    avg_psnr = total_psnr / len(val_loader)\n",
    "    avg_ssim = total_ssim / len(val_loader)\n",
    "\n",
    "    val_losses.append(val_loss)\n",
    "    val_psnrs.append(avg_psnr)\n",
    "    val_ssims.append(avg_ssim)\n",
    "\n",
    "    scheduler.step(val_loss)\n",
    "\n",
    "    print(f\"Epoch [{epoch+1}/{num_epochs}] | Train Loss: {train_loss:.4f} | Val Loss: {val_loss:.4f} | Train_PSNR: {avg_psnr_train:.2f} | Val_PSNR: {avg_psnr:.2f} | Train_SSIM: {avg_ssim_train:.4f} | Val_SSIM: {avg_ssim:.4f}\")\n",
    "\n",
    "    # Save Best Model based on PSNR\n",
    "    if avg_psnr > best_psnr:\n",
    "        best_psnr = avg_psnr\n",
    "        torch.save(model.state_dict(), \"best_vit_PSNR_model.pth\")\n",
    "        print(\"Model Saved (Best PSNR)\")\n",
    "\n",
    "    # Save Best Model based on SSIM\n",
    "    if avg_ssim > best_ssim:\n",
    "        best_ssim = avg_ssim\n",
    "        torch.save(model.state_dict(), \"best_vit_SSIM_model.pth\")\n",
    "        print(\"Model Saved (Best SSIM)\")"
   ]
  },
  {
   "cell_type": "code",
   "execution_count": 11,
   "id": "52f912f6",
   "metadata": {
    "execution": {
     "iopub.execute_input": "2025-03-16T15:22:44.222891Z",
     "iopub.status.busy": "2025-03-16T15:22:44.222539Z",
     "iopub.status.idle": "2025-03-16T15:22:45.584915Z",
     "shell.execute_reply": "2025-03-16T15:22:45.584000Z"
    },
    "papermill": {
     "duration": 1.777156,
     "end_time": "2025-03-16T15:22:45.586697",
     "exception": false,
     "start_time": "2025-03-16T15:22:43.809541",
     "status": "completed"
    },
    "tags": []
   },
   "outputs": [
    {
     "data": {
      "image/png": "[encoded data removed]",
      "text/plain": [
       "<Figure size 1000x600 with 1 Axes>"
      ]
     },
     "metadata": {},
     "output_type": "display_data"
    },
    {
     "data": {
      "image/png": "[encoded data removed]",
      "text/plain": [
       "<Figure size 1000x600 with 1 Axes>"
      ]
     },
     "metadata": {},
     "output_type": "display_data"
    },
    {
     "data": {
      "image/png": "[encoded data removed]",
      "text/plain": [
       "<Figure size 1000x600 with 1 Axes>"
      ]
     },
     "metadata": {},
     "output_type": "display_data"
    }
   ],
   "source": [
    "sns.set(style=\"whitegrid\", font_scale=1.2)\n",
    "epochs = range(1, num_epochs + 1)\n",
    "save_dir = \"/kaggle/working/\"\n",
    "\n",
    "# Plot Loss\n",
    "plt.figure(figsize=(10, 6))\n",
    "plt.plot(epochs, train_losses, label='Train Loss', color='blue')\n",
    "plt.plot(epochs, val_losses, label='Val Loss', color='red')\n",
    "plt.xlabel('Epoch')\n",
    "plt.ylabel('Loss')\n",
    "plt.title('Loss over Epochs')\n",
    "plt.legend()\n",
    "plt.savefig(os.path.join(save_dir, 'MAE_Losses.png'))\n",
    "plt.show()\n",
    "\n",
    "plt.figure(figsize=(10, 6))\n",
    "plt.plot(epochs, train_psnrs, label='Train PSNR', color='blue')\n",
    "plt.plot(epochs, val_psnrs, label='Val PSNR', color='red')\n",
    "plt.xlabel('Epoch')\n",
    "plt.ylabel('PSNR')\n",
    "plt.title('PSNR over Epochs')\n",
    "plt.legend()\n",
    "plt.savefig(os.path.join(save_dir, 'PSNR.png'))\n",
    "plt.show()\n",
    "\n",
    "plt.figure(figsize=(10, 6))\n",
    "plt.plot(epochs, train_ssims, label='Train SSIM', color='blue')\n",
    "plt.plot(epochs, val_ssims, label='Val SSIM', color='red')\n",
    "plt.xlabel('Epoch')\n",
    "plt.ylabel('SSIM')\n",
    "plt.title('SSIM over Epochs')\n",
    "plt.legend()\n",
    "plt.savefig(os.path.join(save_dir, 'SSIM.png'))\n",
    "plt.show()"
   ]
  },
  {
   "cell_type": "markdown",
   "id": "f9eba23a",
   "metadata": {
    "papermill": {
     "duration": 0.421934,
     "end_time": "2025-03-16T15:22:46.498923",
     "exception": false,
     "start_time": "2025-03-16T15:22:46.076989",
     "status": "completed"
    },
    "tags": []
   },
   "source": [
    "## Evaluation"
   ]
  },
  {
   "cell_type": "code",
   "execution_count": 12,
   "id": "0536c06a",
   "metadata": {
    "execution": {
     "iopub.execute_input": "2025-03-16T15:22:47.387441Z",
     "iopub.status.busy": "2025-03-16T15:22:47.387068Z",
     "iopub.status.idle": "2025-03-16T15:22:47.390823Z",
     "shell.execute_reply": "2025-03-16T15:22:47.390211Z"
    },
    "papermill": {
     "duration": 0.477231,
     "end_time": "2025-03-16T15:22:47.392074",
     "exception": false,
     "start_time": "2025-03-16T15:22:46.914843",
     "status": "completed"
    },
    "tags": []
   },
   "outputs": [],
   "source": [
    "# state_dict = torch.load(\"/kaggle/working/best_fine_tuned_vit_model_clas.pth\", map_location=device, weights_only=True)\n",
    "# model.load_state_dict(state_dict)\n",
    "\n",
    "# all_probs_test = []\n",
    "# all_labels_test = []\n",
    "# val_correct, val_total = 0, 0\n",
    "\n",
    "# with torch.no_grad():\n",
    "#     for batch_data, batch_labels in val_loader:\n",
    "#         batch_data, batch_labels = batch_data.to(device), batch_labels.to(device)\n",
    "#         batch_data = image_to_patches(batch_data, patch_size)\n",
    "\n",
    "#         outputs = model(batch_data)\n",
    "\n",
    "#         _, predicted = torch.max(outputs, 1)\n",
    "#         val_correct += (predicted == batch_labels).sum().item()\n",
    "#         val_total += batch_labels.size(0)\n",
    "\n",
    "#         probs = torch.softmax(outputs, dim=1)\n",
    "#         all_probs_test.extend(probs.cpu().detach().numpy())\n",
    "#         all_labels_test.extend(batch_labels.cpu().numpy())\n",
    "\n",
    "# val_acc = val_correct / val_total\n",
    "# print(f\"Accuracy: {(val_acc*100):.2f}%\")\n",
    "\n",
    "# # Step 1: Binarize the labels\n",
    "# all_labels_test = np.array(all_labels_test)\n",
    "# all_probs_test = np.array(all_probs_test)\n",
    "\n",
    "# n_classes = len(np.unique(all_labels_test))\n",
    "# all_labels_test_bin = label_binarize(all_labels_test, classes=np.arange(n_classes))\n",
    "\n",
    "# # Step 2: Compute ROC curve and AUC for each class\n",
    "# fpr = dict()\n",
    "# tpr = dict()\n",
    "# roc_auc = dict()\n",
    "# for i in range(n_classes):\n",
    "#     fpr[i], tpr[i], _ = roc_curve(all_labels_test_bin[:, i], all_probs_test[:, i])\n",
    "#     roc_auc[i] = auc(fpr[i], tpr[i])\n",
    "\n",
    "# # Step 3: Compute micro-average ROC curve and AUC\n",
    "# fpr[\"micro\"], tpr[\"micro\"], _ = roc_curve(all_labels_test_bin.ravel(), all_probs_test.ravel())\n",
    "# roc_auc[\"micro\"] = auc(fpr[\"micro\"], tpr[\"micro\"])\n",
    "\n",
    "# # Step 4: Plot ROC curves\n",
    "# label_map = {0:\"no\", 1:\"sphere\", 2: \"vort\"}\n",
    "# plt.figure(figsize=(8, 6))\n",
    "# colors = cycle([\"aqua\", \"darkorange\", \"cornflowerblue\"])\n",
    "# for i, color in zip(range(n_classes), colors):\n",
    "#     plt.plot(fpr[i], tpr[i], color=color, lw=2,\n",
    "#              label=f\"ROC curve of class {label_map[i]} (AUC = {roc_auc[i]:.2f})\")\n",
    "\n",
    "# plt.plot(fpr[\"micro\"], tpr[\"micro\"], color=\"deeppink\", linestyle=\":\", linewidth=4,\n",
    "#          label=f\"Micro-average ROC curve (AUC = {roc_auc['micro']:.2f})\")\n",
    "\n",
    "# plt.plot([0, 1], [0, 1], \"k--\", lw=2)\n",
    "# plt.xlabel(\"False Positive Rate\")\n",
    "# plt.ylabel(\"True Positive Rate\")\n",
    "# plt.title(\"Multiclass ROC Curve\")\n",
    "# plt.legend(loc=\"lower right\")\n",
    "# plt.savefig(os.path.join(save_dir, 'ROC_curve.png'))\n",
    "# plt.show()\n",
    "\n",
    "# # Step 5: Compute AUC using roc_auc_score with multi_class='ovr'\n",
    "# val_auc = roc_auc_score(all_labels_test, all_probs_test, multi_class='ovr')\n",
    "# print(f\"AUC (One-vs-Rest, macro-average): {val_auc:.2f}\")\n",
    "\n",
    "# # Optional: Compute AUC with different averaging methods\n",
    "# val_auc_micro = roc_auc_score(all_labels_test, all_probs_test, multi_class='ovr', average='micro')\n",
    "# val_auc_weighted = roc_auc_score(all_labels_test, all_probs_test, multi_class='ovr', average='weighted')\n",
    "# print(f\"AUC (One-vs-Rest, micro-average): {val_auc_micro:.2f}\")\n",
    "# print(f\"AUC (One-vs-Rest, weighted-average): {val_auc_weighted:.2f}\")"
   ]
  },
  {
   "cell_type": "code",
   "execution_count": null,
   "id": "45188ab8",
   "metadata": {
    "papermill": {
     "duration": 0.420521,
     "end_time": "2025-03-16T15:22:48.236906",
     "exception": false,
     "start_time": "2025-03-16T15:22:47.816385",
     "status": "completed"
    },
    "tags": []
   },
   "outputs": [],
   "source": []
  }
 ],
 "metadata": {
  "kaggle": {
   "accelerator": "nvidiaTeslaT4",
   "dataSources": [
    {
     "datasetId": 6758858,
     "sourceId": 10923021,
     "sourceType": "datasetVersion"
    },
    {
     "isSourceIdPinned": true,
     "modelId": 264695,
     "modelInstanceId": 243088,
     "sourceId": 283715,
     "sourceType": "modelInstanceVersion"
    }
   ],
   "dockerImageVersionId": 30919,
   "isGpuEnabled": true,
   "isInternetEnabled": true,
   "language": "python",
   "sourceType": "notebook"
  },
  "kernelspec": {
   "display_name": "Python 3",
   "language": "python",
   "name": "python3"
  },
  "language_info": {
   "codemirror_mode": {
    "name": "ipython",
    "version": 3
   },
   "file_extension": ".py",
   "mimetype": "text/x-python",
   "name": "python",
   "nbconvert_exporter": "python",
   "pygments_lexer": "ipython3",
   "version": "3.10.12"
  },
  "papermill": {
   "default_parameters": {},
   "duration": 6566.164687,
   "end_time": "2025-03-16T15:22:51.365205",
   "environment_variables": {},
   "exception": null,
   "input_path": "__notebook__.ipynb",
   "output_path": "__notebook__.ipynb",
   "parameters": {},
   "start_time": "2025-03-16T13:33:25.200518",
   "version": "2.6.0"
  },
  "widgets": {
   "application/vnd.jupyter.widget-state+json": {
    "state": {
     "2a772384b046407f895e1450fe0252ee": {
      "model_module": "@jupyter-widgets/controls",
      "model_module_version": "2.0.0",
      "model_name": "HBoxModel",
      "state": {
       "_dom_classes": [],
       "_model_module": "@jupyter-widgets/controls",
       "_model_module_version": "2.0.0",
       "_model_name": "HBoxModel",
       "_view_count": null,
       "_view_module": "@jupyter-widgets/controls",
       "_view_module_version": "2.0.0",
       "_view_name": "HBoxView",
       "box_style": "",
       "children": [
        "IPY_MODEL_409ce4b93b454b26a2aede304bc8a9d1",
        "IPY_MODEL_4a3e9944c8724362ba171eb55d063a18",
        "IPY_MODEL_9bf1f6dc536b44c38f95e5337c2b6083"
       ],
       "layout": "IPY_MODEL_ca3f615062c24b8c9b1e51f4ead827c5",
       "tabbable": null,
       "tooltip": null
      }
     },
     "409ce4b93b454b26a2aede304bc8a9d1": {
      "model_module": "@jupyter-widgets/controls",
      "model_module_version": "2.0.0",
      "model_name": "HTMLModel",
      "state": {
       "_dom_classes": [],
       "_model_module": "@jupyter-widgets/controls",
       "_model_module_version": "2.0.0",
       "_model_name": "HTMLModel",
       "_view_count": null,
       "_view_module": "@jupyter-widgets/controls",
       "_view_module_version": "2.0.0",
       "_view_name": "HTMLView",
       "description": "",
       "description_allow_html": false,
       "layout": "IPY_MODEL_dedee49e1e6c438da2f219df14c219c7",
       "placeholder": "​",
       "style": "IPY_MODEL_7a4875c2f1134ee18c2c2fae9450d6e5",
       "tabbable": null,
       "tooltip": null,
       "value": "model.safetensors: 100%"
      }
     },
     "4a3e9944c8724362ba171eb55d063a18": {
      "model_module": "@jupyter-widgets/controls",
      "model_module_version": "2.0.0",
      "model_name": "FloatProgressModel",
      "state": {
       "_dom_classes": [],
       "_model_module": "@jupyter-widgets/controls",
       "_model_module_version": "2.0.0",
       "_model_name": "FloatProgressModel",
       "_view_count": null,
       "_view_module": "@jupyter-widgets/controls",
       "_view_module_version": "2.0.0",
       "_view_name": "ProgressView",
       "bar_style": "success",
       "description": "",
       "description_allow_html": false,
       "layout": "IPY_MODEL_c15fbde8257447c6b53bb60cd4c7a29c",
       "max": 22883348.0,
       "min": 0.0,
       "orientation": "horizontal",
       "style": "IPY_MODEL_4b8bbe00282c4e36a2bb92776742e081",
       "tabbable": null,
       "tooltip": null,
       "value": 22883348.0
      }
     },
     "4b8bbe00282c4e36a2bb92776742e081": {
      "model_module": "@jupyter-widgets/controls",
      "model_module_version": "2.0.0",
      "model_name": "ProgressStyleModel",
      "state": {
       "_model_module": "@jupyter-widgets/controls",
       "_model_module_version": "2.0.0",
       "_model_name": "ProgressStyleModel",
       "_view_count": null,
       "_view_module": "@jupyter-widgets/base",
       "_view_module_version": "2.0.0",
       "_view_name": "StyleView",
       "bar_color": null,
       "description_width": ""
      }
     },
     "4d492cbb981f40649fc42ff4a5b88373": {
      "model_module": "@jupyter-widgets/base",
      "model_module_version": "2.0.0",
      "model_name": "LayoutModel",
      "state": {
       "_model_module": "@jupyter-widgets/base",
       "_model_module_version": "2.0.0",
       "_model_name": "LayoutModel",
       "_view_count": null,
       "_view_module": "@jupyter-widgets/base",
       "_view_module_version": "2.0.0",
       "_view_name": "LayoutView",
       "align_content": null,
       "align_items": null,
       "align_self": null,
       "border_bottom": null,
       "border_left": null,
       "border_right": null,
       "border_top": null,
       "bottom": null,
       "display": null,
       "flex": null,
       "flex_flow": null,
       "grid_area": null,
       "grid_auto_columns": null,
       "grid_auto_flow": null,
       "grid_auto_rows": null,
       "grid_column": null,
       "grid_gap": null,
       "grid_row": null,
       "grid_template_areas": null,
       "grid_template_columns": null,
       "grid_template_rows": null,
       "height": null,
       "justify_content": null,
       "justify_items": null,
       "left": null,
       "margin": null,
       "max_height": null,
       "max_width": null,
       "min_height": null,
       "min_width": null,
       "object_fit": null,
       "object_position": null,
       "order": null,
       "overflow": null,
       "padding": null,
       "right": null,
       "top": null,
       "visibility": null,
       "width": null
      }
     },
     "7a4875c2f1134ee18c2c2fae9450d6e5": {
      "model_module": "@jupyter-widgets/controls",
      "model_module_version": "2.0.0",
      "model_name": "HTMLStyleModel",
      "state": {
       "_model_module": "@jupyter-widgets/controls",
       "_model_module_version": "2.0.0",
       "_model_name": "HTMLStyleModel",
       "_view_count": null,
       "_view_module": "@jupyter-widgets/base",
       "_view_module_version": "2.0.0",
       "_view_name": "StyleView",
       "background": null,
       "description_width": "",
       "font_size": null,
       "text_color": null
      }
     },
     "9bf1f6dc536b44c38f95e5337c2b6083": {
      "model_module": "@jupyter-widgets/controls",
      "model_module_version": "2.0.0",
      "model_name": "HTMLModel",
      "state": {
       "_dom_classes": [],
       "_model_module": "@jupyter-widgets/controls",
       "_model_module_version": "2.0.0",
       "_model_name": "HTMLModel",
       "_view_count": null,
       "_view_module": "@jupyter-widgets/controls",
       "_view_module_version": "2.0.0",
       "_view_name": "HTMLView",
       "description": "",
       "description_allow_html": false,
       "layout": "IPY_MODEL_4d492cbb981f40649fc42ff4a5b88373",
       "placeholder": "​",
       "style": "IPY_MODEL_fe90b7112c0049d68d403e8001894930",
       "tabbable": null,
       "tooltip": null,
       "value": " 22.9M/22.9M [00:00&lt;00:00, 82.5MB/s]"
      }
     },
     "c15fbde8257447c6b53bb60cd4c7a29c": {
      "model_module": "@jupyter-widgets/base",
      "model_module_version": "2.0.0",
      "model_name": "LayoutModel",
      "state": {
       "_model_module": "@jupyter-widgets/base",
       "_model_module_version": "2.0.0",
       "_model_name": "LayoutModel",
       "_view_count": null,
       "_view_module": "@jupyter-widgets/base",
       "_view_module_version": "2.0.0",
       "_view_name": "LayoutView",
       "align_content": null,
       "align_items": null,
       "align_self": null,
       "border_bottom": null,
       "border_left": null,
       "border_right": null,
       "border_top": null,
       "bottom": null,
       "display": null,
       "flex": null,
       "flex_flow": null,
       "grid_area": null,
       "grid_auto_columns": null,
       "grid_auto_flow": null,
       "grid_auto_rows": null,
       "grid_column": null,
       "grid_gap": null,
       "grid_row": null,
       "grid_template_areas": null,
       "grid_template_columns": null,
       "grid_template_rows": null,
       "height": null,
       "justify_content": null,
       "justify_items": null,
       "left": null,
       "margin": null,
       "max_height": null,
       "max_width": null,
       "min_height": null,
       "min_width": null,
       "object_fit": null,
       "object_position": null,
       "order": null,
       "overflow": null,
       "padding": null,
       "right": null,
       "top": null,
       "visibility": null,
       "width": null
      }
     },
     "ca3f615062c24b8c9b1e51f4ead827c5": {
      "model_module": "@jupyter-widgets/base",
      "model_module_version": "2.0.0",
      "model_name": "LayoutModel",
      "state": {
       "_model_module": "@jupyter-widgets/base",
       "_model_module_version": "2.0.0",
       "_model_name": "LayoutModel",
       "_view_count": null,
       "_view_module": "@jupyter-widgets/base",
       "_view_module_version": "2.0.0",
       "_view_name": "LayoutView",
       "align_content": null,
       "align_items": null,
       "align_self": null,
       "border_bottom": null,
       "border_left": null,
       "border_right": null,
       "border_top": null,
       "bottom": null,
       "display": null,
       "flex": null,
       "flex_flow": null,
       "grid_area": null,
       "grid_auto_columns": null,
       "grid_auto_flow": null,
       "grid_auto_rows": null,
       "grid_column": null,
       "grid_gap": null,
       "grid_row": null,
       "grid_template_areas": null,
       "grid_template_columns": null,
       "grid_template_rows": null,
       "height": null,
       "justify_content": null,
       "justify_items": null,
       "left": null,
       "margin": null,
       "max_height": null,
       "max_width": null,
       "min_height": null,
       "min_width": null,
       "object_fit": null,
       "object_position": null,
       "order": null,
       "overflow": null,
       "padding": null,
       "right": null,
       "top": null,
       "visibility": null,
       "width": null
      }
     },
     "dedee49e1e6c438da2f219df14c219c7": {
      "model_module": "@jupyter-widgets/base",
      "model_module_version": "2.0.0",
      "model_name": "LayoutModel",
      "state": {
       "_model_module": "@jupyter-widgets/base",
       "_model_module_version": "2.0.0",
       "_model_name": "LayoutModel",
       "_view_count": null,
       "_view_module": "@jupyter-widgets/base",
       "_view_module_version": "2.0.0",
       "_view_name": "LayoutView",
       "align_content": null,
       "align_items": null,
       "align_self": null,
       "border_bottom": null,
       "border_left": null,
       "border_right": null,
       "border_top": null,
       "bottom": null,
       "display": null,
       "flex": null,
       "flex_flow": null,
       "grid_area": null,
       "grid_auto_columns": null,
       "grid_auto_flow": null,
       "grid_auto_rows": null,
       "grid_column": null,
       "grid_gap": null,
       "grid_row": null,
       "grid_template_areas": null,
       "grid_template_columns": null,
       "grid_template_rows": null,
       "height": null,
       "justify_content": null,
       "justify_items": null,
       "left": null,
       "margin": null,
       "max_height": null,
       "max_width": null,
       "min_height": null,
       "min_width": null,
       "object_fit": null,
       "object_position": null,
       "order": null,
       "overflow": null,
       "padding": null,
       "right": null,
       "top": null,
       "visibility": null,
       "width": null
      }
     },
     "fe90b7112c0049d68d403e8001894930": {
      "model_module": "@jupyter-widgets/controls",
      "model_module_version": "2.0.0",
      "model_name": "HTMLStyleModel",
      "state": {
       "_model_module": "@jupyter-widgets/controls",
       "_model_module_version": "2.0.0",
       "_model_name": "HTMLStyleModel",
       "_view_count": null,
       "_view_module": "@jupyter-widgets/base",
       "_view_module_version": "2.0.0",
       "_view_name": "StyleView",
       "background": null,
       "description_width": "",
       "font_size": null,
       "text_color": null
      }
     }
    },
    "version_major": 2,
    "version_minor": 0
   }
  }
 },
 "nbformat": 4,
 "nbformat_minor": 5
}
